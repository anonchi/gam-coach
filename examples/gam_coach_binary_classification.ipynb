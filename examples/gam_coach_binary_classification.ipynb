{
 "cells": [
  {
   "cell_type": "markdown",
   "metadata": {
    "id": "hy4E4RnHx0ZV"
   },
   "source": [
    "# GAM Coach: Binary Classification\n",
    "\n",
    "In this notebook, we will learn how to generate *diverse* and *customizable* counterfactual explanations for Generalized Additive Models (GAMs)."
   ]
  },
  {
   "cell_type": "markdown",
   "metadata": {
    "id": "Q2zL9g8Eye_c"
   },
   "source": [
    "## 1. Install GAM Coach\n",
    "\n",
    "First, we need to install GAM Coach through pip."
   ]
  },
  {
   "cell_type": "code",
   "execution_count": 1,
   "metadata": {
    "id": "XkstzTZdydoE"
   },
   "outputs": [],
   "source": [
    "%%capture\n",
    "!pip install gamcoach"
   ]
  },
  {
   "cell_type": "markdown",
   "metadata": {
    "id": "h10Zagpizhlq"
   },
   "source": [
    "## 2. Train an EBM Model\n",
    "\n",
    "Let's train a binary classification model using EBM on the Lending Club dataset. The dataset contains financial information (18 features) of 5000 loan applicants. The target variable has a binary value: `1` if the person paid off the loan and `0` if the person failed to pay off the loan. To learn more about how we generate this dataset, check out our [GAM Coach paper]().\n",
    "\n",
    "We can use this dataset to train a binary classifier to make future loan decisions (only for demo purpose)."
   ]
  },
  {
   "cell_type": "code",
   "execution_count": 2,
   "metadata": {
    "id": "YXo8JPNixvON"
   },
   "outputs": [],
   "source": [
    "import gamcoach as coach\n",
    "import numpy as np\n",
    "import pandas as pd\n",
    "\n",
    "import urllib.request\n",
    "import json\n",
    "\n",
    "from interpret.glassbox import ExplainableBoostingClassifier\n",
    "from sklearn.model_selection import train_test_split\n",
    "from sklearn import metrics\n",
    "from collections import Counter\n",
    "\n",
    "SEED = 101221"
   ]
  },
  {
   "cell_type": "code",
   "execution_count": 3,
   "metadata": {
    "id": "Z7oLv8JI2N3S"
   },
   "outputs": [],
   "source": [
    "# Load a pre-processed lending club dataset\n",
    "ca_data_url = 'https://gist.githubusercontent.com/xiaohk/06266553d43e591817914bfe52ec9b60/raw/c190b7cea837739797336d690fe44df9d8f9384c/lending-club-data-5000-ca.json'\n",
    "\n",
    "with urllib.request.urlopen(ca_data_url) as url:\n",
    "    data = json.loads(url.read().decode())\n",
    "\n",
    "# Load the training data\n",
    "x_all = np.array(data['x_all'])\n",
    "y_all = np.array(data['y_all']) # `y_all`: 1 if paid off, 0 if failed to pay off\n",
    "\n",
    "# Load some meta data\n",
    "feature_names = data['feature_names']\n",
    "feature_types = data['feature_types']\n",
    "cont_index = data['cont_index']\n",
    "cat_index = data['cat_index']\n",
    "\n",
    "# Use float to encode continuous features and string for categorical features\n",
    "for i, t in enumerate(feature_types):\n",
    "    if t == 'continuous':\n",
    "        x_all[:, i] = x_all[:, i].astype(float)\n",
    "    elif t == 'categorical':\n",
    "        x_all[:, i] = x_all[:, i].astype(str)"
   ]
  },
  {
   "cell_type": "code",
   "execution_count": 4,
   "metadata": {
    "colab": {
     "base_uri": "https://localhost:8080/",
     "height": 309
    },
    "id": "ZDGWfmDMxsuM",
    "outputId": "62a266b3-3ccb-492a-a536-e9428772c669"
   },
   "outputs": [
    {
     "data": {
      "text/html": [
       "<div>\n",
       "<style scoped>\n",
       "    .dataframe tbody tr th:only-of-type {\n",
       "        vertical-align: middle;\n",
       "    }\n",
       "\n",
       "    .dataframe tbody tr th {\n",
       "        vertical-align: top;\n",
       "    }\n",
       "\n",
       "    .dataframe thead th {\n",
       "        text-align: right;\n",
       "    }\n",
       "</style>\n",
       "<table border=\"1\" class=\"dataframe\">\n",
       "  <thead>\n",
       "    <tr style=\"text-align: right;\">\n",
       "      <th></th>\n",
       "      <th>loan_amnt</th>\n",
       "      <th>term</th>\n",
       "      <th>emp_length</th>\n",
       "      <th>home_ownership</th>\n",
       "      <th>annual_inc</th>\n",
       "      <th>verification_status</th>\n",
       "      <th>purpose</th>\n",
       "      <th>dti</th>\n",
       "      <th>earliest_cr_line</th>\n",
       "      <th>open_acc</th>\n",
       "      <th>pub_rec</th>\n",
       "      <th>revol_bal</th>\n",
       "      <th>revol_util</th>\n",
       "      <th>total_acc</th>\n",
       "      <th>application_type</th>\n",
       "      <th>mort_acc</th>\n",
       "      <th>pub_rec_bankruptcies</th>\n",
       "      <th>fico_score</th>\n",
       "    </tr>\n",
       "  </thead>\n",
       "  <tbody>\n",
       "    <tr>\n",
       "      <th>0</th>\n",
       "      <td>10000.0</td>\n",
       "      <td>36 months</td>\n",
       "      <td>3 years</td>\n",
       "      <td>RENT</td>\n",
       "      <td>4.662757831681574</td>\n",
       "      <td>Source Verified</td>\n",
       "      <td>debt_consolidation</td>\n",
       "      <td>15.11</td>\n",
       "      <td>1998.0</td>\n",
       "      <td>8.0</td>\n",
       "      <td>1</td>\n",
       "      <td>3.693990610460777</td>\n",
       "      <td>23.0</td>\n",
       "      <td>12.0</td>\n",
       "      <td>Individual</td>\n",
       "      <td>0</td>\n",
       "      <td>1</td>\n",
       "      <td>707.0</td>\n",
       "    </tr>\n",
       "    <tr>\n",
       "      <th>1</th>\n",
       "      <td>12000.0</td>\n",
       "      <td>36 months</td>\n",
       "      <td>3 years</td>\n",
       "      <td>RENT</td>\n",
       "      <td>4.653212513775344</td>\n",
       "      <td>Verified</td>\n",
       "      <td>debt_consolidation</td>\n",
       "      <td>26.29</td>\n",
       "      <td>1999.0</td>\n",
       "      <td>14.0</td>\n",
       "      <td>0</td>\n",
       "      <td>4.35173834558076</td>\n",
       "      <td>64.4</td>\n",
       "      <td>27.0</td>\n",
       "      <td>Individual</td>\n",
       "      <td>0</td>\n",
       "      <td>0</td>\n",
       "      <td>692.0</td>\n",
       "    </tr>\n",
       "    <tr>\n",
       "      <th>2</th>\n",
       "      <td>9600.0</td>\n",
       "      <td>36 months</td>\n",
       "      <td>8 years</td>\n",
       "      <td>RENT</td>\n",
       "      <td>4.653212513775344</td>\n",
       "      <td>Verified</td>\n",
       "      <td>debt_consolidation</td>\n",
       "      <td>20.05</td>\n",
       "      <td>2000.0</td>\n",
       "      <td>22.0</td>\n",
       "      <td>1</td>\n",
       "      <td>3.6242820958356683</td>\n",
       "      <td>17.4</td>\n",
       "      <td>35.0</td>\n",
       "      <td>Individual</td>\n",
       "      <td>0</td>\n",
       "      <td>1</td>\n",
       "      <td>687.0</td>\n",
       "    </tr>\n",
       "    <tr>\n",
       "      <th>3</th>\n",
       "      <td>35000.0</td>\n",
       "      <td>60 months</td>\n",
       "      <td>10+ years</td>\n",
       "      <td>MORTGAGE</td>\n",
       "      <td>5.1303337684950066</td>\n",
       "      <td>Verified</td>\n",
       "      <td>debt_consolidation</td>\n",
       "      <td>17.29</td>\n",
       "      <td>1991.0</td>\n",
       "      <td>15.0</td>\n",
       "      <td>2+</td>\n",
       "      <td>4.161787118745523</td>\n",
       "      <td>74.4</td>\n",
       "      <td>21.0</td>\n",
       "      <td>Individual</td>\n",
       "      <td>1</td>\n",
       "      <td>0</td>\n",
       "      <td>677.0</td>\n",
       "    </tr>\n",
       "    <tr>\n",
       "      <th>4</th>\n",
       "      <td>14500.0</td>\n",
       "      <td>36 months</td>\n",
       "      <td>6 years</td>\n",
       "      <td>RENT</td>\n",
       "      <td>4.623249290397901</td>\n",
       "      <td>Not Verified</td>\n",
       "      <td>credit_card</td>\n",
       "      <td>17.89</td>\n",
       "      <td>2005.0</td>\n",
       "      <td>10.0</td>\n",
       "      <td>0</td>\n",
       "      <td>3.843855422623161</td>\n",
       "      <td>59.7</td>\n",
       "      <td>19.0</td>\n",
       "      <td>Individual</td>\n",
       "      <td>0</td>\n",
       "      <td>0</td>\n",
       "      <td>707.0</td>\n",
       "    </tr>\n",
       "  </tbody>\n",
       "</table>\n",
       "</div>"
      ],
      "text/plain": [
       "  loan_amnt       term emp_length home_ownership          annual_inc  \\\n",
       "0   10000.0  36 months    3 years           RENT   4.662757831681574   \n",
       "1   12000.0  36 months    3 years           RENT   4.653212513775344   \n",
       "2    9600.0  36 months    8 years           RENT   4.653212513775344   \n",
       "3   35000.0  60 months  10+ years       MORTGAGE  5.1303337684950066   \n",
       "4   14500.0  36 months    6 years           RENT   4.623249290397901   \n",
       "\n",
       "  verification_status             purpose    dti earliest_cr_line open_acc  \\\n",
       "0     Source Verified  debt_consolidation  15.11           1998.0      8.0   \n",
       "1            Verified  debt_consolidation  26.29           1999.0     14.0   \n",
       "2            Verified  debt_consolidation  20.05           2000.0     22.0   \n",
       "3            Verified  debt_consolidation  17.29           1991.0     15.0   \n",
       "4        Not Verified         credit_card  17.89           2005.0     10.0   \n",
       "\n",
       "  pub_rec           revol_bal revol_util total_acc application_type mort_acc  \\\n",
       "0       1   3.693990610460777       23.0      12.0       Individual        0   \n",
       "1       0    4.35173834558076       64.4      27.0       Individual        0   \n",
       "2       1  3.6242820958356683       17.4      35.0       Individual        0   \n",
       "3      2+   4.161787118745523       74.4      21.0       Individual        1   \n",
       "4       0   3.843855422623161       59.7      19.0       Individual        0   \n",
       "\n",
       "  pub_rec_bankruptcies fico_score  \n",
       "0                    1      707.0  \n",
       "1                    0      692.0  \n",
       "2                    1      687.0  \n",
       "3                    0      677.0  \n",
       "4                    0      707.0  "
      ]
     },
     "execution_count": 4,
     "metadata": {},
     "output_type": "execute_result"
    }
   ],
   "source": [
    "# Create a dataFrame to validate that we load the correct data\n",
    "df = pd.DataFrame(x_all)\n",
    "df.columns = feature_names\n",
    "\n",
    "df.head()"
   ]
  },
  {
   "cell_type": "code",
   "execution_count": 5,
   "metadata": {
    "colab": {
     "base_uri": "https://localhost:8080/"
    },
    "id": "NwZU3Zdzy1P9",
    "outputId": "59256bac-f13b-4eb2-bb6d-d9c45a25cfb1"
   },
   "outputs": [
    {
     "data": {
      "text/plain": [
       "ExplainableBoostingClassifier(feature_names=['loan_amnt', 'term', 'emp_length',\n",
       "                                             'home_ownership', 'annual_inc',\n",
       "                                             'verification_status', 'purpose',\n",
       "                                             'dti', 'earliest_cr_line',\n",
       "                                             'open_acc', 'pub_rec', 'revol_bal',\n",
       "                                             'revol_util', 'total_acc',\n",
       "                                             'application_type', 'mort_acc',\n",
       "                                             'pub_rec_bankruptcies',\n",
       "                                             'fico_score',\n",
       "                                             'open_acc x fico_score',\n",
       "                                             'dti x fico_score',\n",
       "                                             'loan_amnt x home_ownersh...\n",
       "                                             'categorical', 'categorical',\n",
       "                                             'continuous', 'categorical',\n",
       "                                             'categorical', 'continuous',\n",
       "                                             'continuous', 'continuous',\n",
       "                                             'categorical', 'continuous',\n",
       "                                             'continuous', 'continuous',\n",
       "                                             'categorical', 'categorical',\n",
       "                                             'categorical', 'continuous',\n",
       "                                             'interaction', 'interaction',\n",
       "                                             'interaction', 'interaction',\n",
       "                                             'interaction', 'interaction',\n",
       "                                             'interaction', 'interaction',\n",
       "                                             'interaction', 'interaction'],\n",
       "                              random_state=101221)"
      ]
     },
     "execution_count": 5,
     "metadata": {},
     "output_type": "execute_result"
    }
   ],
   "source": [
    "# Train a binary classifier\n",
    "x_train, x_test, y_train, y_test = train_test_split(x_all,\n",
    "                                                    y_all,\n",
    "                                                    test_size=0.2,\n",
    "                                                    random_state=SEED)\n",
    "\n",
    "# Use sample weight to combat class imbalance\n",
    "weight = np.bincount(y_train)[1] / np.bincount(y_train)[0]\n",
    "x_train_sample_weights = [weight if y_train[i] == 0 else 1 for i in range(len(y_train))]\n",
    "\n",
    "ebm = ExplainableBoostingClassifier(feature_names,\n",
    "                                    feature_types,\n",
    "                                    random_state=SEED)\n",
    "\n",
    "ebm.fit(x_train, y_train, sample_weight=x_train_sample_weights)"
   ]
  },
  {
   "cell_type": "code",
   "execution_count": 6,
   "metadata": {
    "colab": {
     "base_uri": "https://localhost:8080/"
    },
    "id": "6qRN7SBS7-oZ",
    "outputId": "3c7afed2-8bb1-42be-f819-3387a96f2aec"
   },
   "outputs": [
    {
     "name": "stdout",
     "output_type": "stream",
     "text": [
      "Counter({1: 622, 0: 378})\n",
      "\n",
      "accuracy: 0.6500 \n",
      "auc: 0.6729 \n",
      "recall:0.6722 \n",
      "precision: 0.8537 specificity: 0.5667 \n",
      "f1: 0.7521\n",
      "balanced accuracy: 0.6194\n",
      "\n",
      "confusion matrix:\n",
      " [[119  91]\n",
      " [259 531]]\n"
     ]
    }
   ],
   "source": [
    "# Evaluate our model\n",
    "\n",
    "y_pred = ebm.predict(x_test)\n",
    "y_pred_prob = ebm.predict_proba(x_test)[:, 1]\n",
    "\n",
    "print(Counter(y_pred))\n",
    "print()\n",
    "\n",
    "accuracy = metrics.accuracy_score(y_test, y_pred)\n",
    "auc = metrics.roc_auc_score(y_test, y_pred_prob)\n",
    "f1 = metrics.f1_score(y_test, y_pred)\n",
    "recall = metrics.recall_score(y_test, y_pred)\n",
    "precision = metrics.precision_score(y_test, y_pred)\n",
    "balanced_accuracy = metrics.balanced_accuracy_score(y_test, y_pred)\n",
    "\n",
    "confusion_matrix = metrics.confusion_matrix(y_test, y_pred)\n",
    "\n",
    "tn = confusion_matrix[0, 0]\n",
    "fn = confusion_matrix[1, 0]\n",
    "fp = confusion_matrix[0, 1]\n",
    "tp = confusion_matrix[1, 1]\n",
    "specificity = tn / (tn + fp)\n",
    "\n",
    "temp = ('accuracy: {:.4f} \\nauc: {:.4f} \\nrecall:{:.4f} \\nprecision: {:.4f} '+\n",
    "    'specificity: {:.4f} \\nf1: {:.4f}\\nbalanced accuracy: {:.4f}')\n",
    "print(temp.format(accuracy, auc, recall, precision, specificity, f1, balanced_accuracy))\n",
    "print()\n",
    "\n",
    "print('confusion matrix:\\n', confusion_matrix)"
   ]
  },
  {
   "cell_type": "markdown",
   "metadata": {
    "id": "mn-vGLMdFtuM"
   },
   "source": [
    "## 3. Generate Counterfactual Explanations\n",
    "\n",
    "We have trained an EBM model with quite decent performance on predicting if a loan borrower can successfully pay off the loan.\n",
    "\n",
    "Suppose we use this model to decide if we should approve a loan application, we need to think about model interpretability. EBM models are glass-box models, where we know how exactly these models make predictions. If we want to explain loan refusal to a layperson, it is more helpful to provide **counterfactual explanations**. These explanation could say *''if your annual income were 5k higher, your application would be approved.''* They not only inform end users with key features that contribute to the decision, but also provide means that they can act on to obtain a desried outcome.\n",
    "\n",
    "GAM Coach helps you generate diverse, optimal, and customizable counterfactual explantions for EBMs. Internally, GAM Coach formulates and solves a [mixed-integer linear programming](https://en.wikipedia.org/wiki/Integer_programming) problem.\n",
    "\n",
    "In this section, we will learn how to generate counterfactual explantions using GAM Coach."
   ]
  },
  {
   "cell_type": "code",
   "execution_count": 7,
   "metadata": {
    "colab": {
     "base_uri": "https://localhost:8080/",
     "height": 309
    },
    "id": "JWuIT4rD8Caq",
    "outputId": "a24c4dee-37f2-48bc-8e40-d842c034d025"
   },
   "outputs": [
    {
     "data": {
      "text/html": [
       "<div>\n",
       "<style scoped>\n",
       "    .dataframe tbody tr th:only-of-type {\n",
       "        vertical-align: middle;\n",
       "    }\n",
       "\n",
       "    .dataframe tbody tr th {\n",
       "        vertical-align: top;\n",
       "    }\n",
       "\n",
       "    .dataframe thead th {\n",
       "        text-align: right;\n",
       "    }\n",
       "</style>\n",
       "<table border=\"1\" class=\"dataframe\">\n",
       "  <thead>\n",
       "    <tr style=\"text-align: right;\">\n",
       "      <th></th>\n",
       "      <th>loan_amnt</th>\n",
       "      <th>term</th>\n",
       "      <th>emp_length</th>\n",
       "      <th>home_ownership</th>\n",
       "      <th>annual_inc</th>\n",
       "      <th>verification_status</th>\n",
       "      <th>purpose</th>\n",
       "      <th>dti</th>\n",
       "      <th>earliest_cr_line</th>\n",
       "      <th>open_acc</th>\n",
       "      <th>pub_rec</th>\n",
       "      <th>revol_bal</th>\n",
       "      <th>revol_util</th>\n",
       "      <th>total_acc</th>\n",
       "      <th>application_type</th>\n",
       "      <th>mort_acc</th>\n",
       "      <th>pub_rec_bankruptcies</th>\n",
       "      <th>fico_score</th>\n",
       "      <th>prediction</th>\n",
       "    </tr>\n",
       "  </thead>\n",
       "  <tbody>\n",
       "    <tr>\n",
       "      <th>0</th>\n",
       "      <td>10000.0</td>\n",
       "      <td>36 months</td>\n",
       "      <td>&lt; 1 year</td>\n",
       "      <td>OWN</td>\n",
       "      <td>4.531478917042255</td>\n",
       "      <td>Source Verified</td>\n",
       "      <td>credit_card</td>\n",
       "      <td>31.66</td>\n",
       "      <td>2008.0</td>\n",
       "      <td>7.0</td>\n",
       "      <td>0</td>\n",
       "      <td>3.760422483423212</td>\n",
       "      <td>51.0</td>\n",
       "      <td>12.0</td>\n",
       "      <td>Individual</td>\n",
       "      <td>0</td>\n",
       "      <td>0</td>\n",
       "      <td>677.0</td>\n",
       "      <td>0</td>\n",
       "    </tr>\n",
       "    <tr>\n",
       "      <th>1</th>\n",
       "      <td>10000.0</td>\n",
       "      <td>60 months</td>\n",
       "      <td>1 year</td>\n",
       "      <td>RENT</td>\n",
       "      <td>4.643452676486188</td>\n",
       "      <td>Not Verified</td>\n",
       "      <td>debt_consolidation</td>\n",
       "      <td>4.34</td>\n",
       "      <td>2014.0</td>\n",
       "      <td>7.0</td>\n",
       "      <td>0</td>\n",
       "      <td>3.671358003443492</td>\n",
       "      <td>26.7</td>\n",
       "      <td>7.0</td>\n",
       "      <td>Individual</td>\n",
       "      <td>0</td>\n",
       "      <td>0</td>\n",
       "      <td>662.0</td>\n",
       "      <td>0</td>\n",
       "    </tr>\n",
       "    <tr>\n",
       "      <th>2</th>\n",
       "      <td>11000.0</td>\n",
       "      <td>36 months</td>\n",
       "      <td>8 years</td>\n",
       "      <td>MORTGAGE</td>\n",
       "      <td>4.556302500767287</td>\n",
       "      <td>Source Verified</td>\n",
       "      <td>major_purchase</td>\n",
       "      <td>13.4</td>\n",
       "      <td>2011.0</td>\n",
       "      <td>12.0</td>\n",
       "      <td>1</td>\n",
       "      <td>3.8899736384039962</td>\n",
       "      <td>44.9</td>\n",
       "      <td>15.0</td>\n",
       "      <td>Individual</td>\n",
       "      <td>0</td>\n",
       "      <td>1</td>\n",
       "      <td>677.0</td>\n",
       "      <td>0</td>\n",
       "    </tr>\n",
       "    <tr>\n",
       "      <th>3</th>\n",
       "      <td>15400.0</td>\n",
       "      <td>60 months</td>\n",
       "      <td>3 years</td>\n",
       "      <td>RENT</td>\n",
       "      <td>4.763427993562937</td>\n",
       "      <td>Verified</td>\n",
       "      <td>debt_consolidation</td>\n",
       "      <td>27.18</td>\n",
       "      <td>2005.0</td>\n",
       "      <td>9.0</td>\n",
       "      <td>0</td>\n",
       "      <td>3.940217555599735</td>\n",
       "      <td>68.1</td>\n",
       "      <td>28.0</td>\n",
       "      <td>Individual</td>\n",
       "      <td>0</td>\n",
       "      <td>0</td>\n",
       "      <td>682.0</td>\n",
       "      <td>0</td>\n",
       "    </tr>\n",
       "    <tr>\n",
       "      <th>4</th>\n",
       "      <td>10725.0</td>\n",
       "      <td>60 months</td>\n",
       "      <td>4 years</td>\n",
       "      <td>RENT</td>\n",
       "      <td>4.698970004336019</td>\n",
       "      <td>Source Verified</td>\n",
       "      <td>house</td>\n",
       "      <td>27.63</td>\n",
       "      <td>2004.0</td>\n",
       "      <td>9.0</td>\n",
       "      <td>0</td>\n",
       "      <td>3.688864568054792</td>\n",
       "      <td>20.5</td>\n",
       "      <td>19.0</td>\n",
       "      <td>Individual</td>\n",
       "      <td>0</td>\n",
       "      <td>0</td>\n",
       "      <td>772.0</td>\n",
       "      <td>0</td>\n",
       "    </tr>\n",
       "  </tbody>\n",
       "</table>\n",
       "</div>"
      ],
      "text/plain": [
       "  loan_amnt       term emp_length home_ownership         annual_inc  \\\n",
       "0   10000.0  36 months   < 1 year            OWN  4.531478917042255   \n",
       "1   10000.0  60 months     1 year           RENT  4.643452676486188   \n",
       "2   11000.0  36 months    8 years       MORTGAGE  4.556302500767287   \n",
       "3   15400.0  60 months    3 years           RENT  4.763427993562937   \n",
       "4   10725.0  60 months    4 years           RENT  4.698970004336019   \n",
       "\n",
       "  verification_status             purpose    dti earliest_cr_line open_acc  \\\n",
       "0     Source Verified         credit_card  31.66           2008.0      7.0   \n",
       "1        Not Verified  debt_consolidation   4.34           2014.0      7.0   \n",
       "2     Source Verified      major_purchase   13.4           2011.0     12.0   \n",
       "3            Verified  debt_consolidation  27.18           2005.0      9.0   \n",
       "4     Source Verified               house  27.63           2004.0      9.0   \n",
       "\n",
       "  pub_rec           revol_bal revol_util total_acc application_type mort_acc  \\\n",
       "0       0   3.760422483423212       51.0      12.0       Individual        0   \n",
       "1       0   3.671358003443492       26.7       7.0       Individual        0   \n",
       "2       1  3.8899736384039962       44.9      15.0       Individual        0   \n",
       "3       0   3.940217555599735       68.1      28.0       Individual        0   \n",
       "4       0   3.688864568054792       20.5      19.0       Individual        0   \n",
       "\n",
       "  pub_rec_bankruptcies fico_score prediction  \n",
       "0                    0      677.0          0  \n",
       "1                    0      662.0          0  \n",
       "2                    1      677.0          0  \n",
       "3                    0      682.0          0  \n",
       "4                    0      772.0          0  "
      ]
     },
     "execution_count": 7,
     "metadata": {},
     "output_type": "execute_result"
    }
   ],
   "source": [
    "# Find an interesting data point\n",
    "# We can focus on test cases where our model rejcets the application (y_hat = 0)\n",
    "reject_index = y_pred == 0\n",
    "x_reject = x_test[reject_index, :]\n",
    "y_pred_reject = y_pred[reject_index]\n",
    "\n",
    "reject_df = pd.DataFrame(np.hstack((x_reject, y_pred_reject.reshape(-1, 1))))\n",
    "reject_df.columns = feature_names + ['prediction']\n",
    "reject_df.head()"
   ]
  },
  {
   "cell_type": "code",
   "execution_count": 8,
   "metadata": {
    "colab": {
     "base_uri": "https://localhost:8080/"
    },
    "id": "q1aMWvOWJ0k8",
    "outputId": "55e61872-e1eb-4488-f947-de01d31046b6"
   },
   "outputs": [
    {
     "name": "stdout",
     "output_type": "stream",
     "text": [
      "['16750.0' '60 months' 'missing' 'RENT' '4.510866590733636' 'Verified'\n",
      " 'debt_consolidation' '16.65' '2001.0' '4.0' '0' '3.867113779831977'\n",
      " '75.9' '9.0' 'Individual' '0' '0' '702.0']\n"
     ]
    }
   ],
   "source": [
    "# Find a random sample\n",
    "rs = np.random.RandomState(SEED)\n",
    "target_index = rs.choice(range(reject_df.shape[0]))\n",
    "cur_example = x_reject[target_index, :]\n",
    "\n",
    "print(cur_example)"
   ]
  },
  {
   "cell_type": "code",
   "execution_count": 9,
   "metadata": {
    "colab": {
     "base_uri": "https://localhost:8080/",
     "height": 198
    },
    "id": "cpjwLXZ_K_yx",
    "outputId": "1c703a54-98b0-4e0d-c09b-9c74cad33d67"
   },
   "outputs": [],
   "source": [
    "# Generate counterfactual (CF) explanations\n",
    "\n",
    "# First create a GAM Coach object\n",
    "# It requires to provide the training data, so it can generate better CFs based\n",
    "# on the data distribution\n",
    "my_coach = coach.GAMCoach(ebm, x_train)"
   ]
  },
  {
   "cell_type": "code",
   "execution_count": 10,
   "metadata": {},
   "outputs": [
    {
     "data": {
      "text/plain": [
       "['loan_amnt',\n",
       " 'term',\n",
       " 'emp_length',\n",
       " 'home_ownership',\n",
       " 'annual_inc',\n",
       " 'verification_status',\n",
       " 'purpose',\n",
       " 'dti',\n",
       " 'earliest_cr_line',\n",
       " 'open_acc',\n",
       " 'pub_rec',\n",
       " 'revol_bal',\n",
       " 'revol_util',\n",
       " 'total_acc',\n",
       " 'application_type',\n",
       " 'mort_acc',\n",
       " 'pub_rec_bankruptcies',\n",
       " 'fico_score']"
      ]
     },
     "execution_count": 10,
     "metadata": {},
     "output_type": "execute_result"
    }
   ],
   "source": [
    "feature_names"
   ]
  },
  {
   "cell_type": "code",
   "execution_count": 11,
   "metadata": {
    "colab": {
     "base_uri": "https://localhost:8080/"
    },
    "id": "IRRf1ZCpLje8",
    "outputId": "7e4ac8d9-c64e-4d6f-cb89-762aaa543508"
   },
   "outputs": [
    {
     "name": "stderr",
     "output_type": "stream",
     "text": [
      "100%|█████████████████████████████████████████████| 3/3 [00:02<00:00,  1.13it/s]"
     ]
    },
    {
     "name": "stdout",
     "output_type": "stream",
     "text": [
      "Found 3 counterfactual examples.\n"
     ]
    },
    {
     "name": "stderr",
     "output_type": "stream",
     "text": [
      "\n"
     ]
    }
   ],
   "source": [
    "# To generate good CF explantions, we need to consider what features are mutable\n",
    "# and they possible values\n",
    "\n",
    "cfs = my_coach.generate_cfs(\n",
    "    cur_example,\n",
    "    total_cfs=3,\n",
    "    # List of features that the CFs can change\n",
    "    features_to_vary=['loan_amnt', 'term', 'emp_length', 'home_ownership',\n",
    "                      'annual_inc', 'purpose', 'dti', 'open_acc', 'revol_bal',\n",
    "                      'revol_util', 'total_acc', 'application_type', 'mort_acc',\n",
    "                      'fico_score'],\n",
    "    # Some continuous features need to have integer values in practice\n",
    "    continuous_integer_features=['open_acc', 'total_acc', 'mort_acc', 'fico_score']\n",
    ")"
   ]
  },
  {
   "cell_type": "code",
   "execution_count": 12,
   "metadata": {
    "id": "kXOG7J0ZLiCo"
   },
   "outputs": [
    {
     "data": {
      "text/html": [
       "<div>\n",
       "<style scoped>\n",
       "    .dataframe tbody tr th:only-of-type {\n",
       "        vertical-align: middle;\n",
       "    }\n",
       "\n",
       "    .dataframe tbody tr th {\n",
       "        vertical-align: top;\n",
       "    }\n",
       "\n",
       "    .dataframe thead th {\n",
       "        text-align: right;\n",
       "    }\n",
       "</style>\n",
       "<table border=\"1\" class=\"dataframe\">\n",
       "  <thead>\n",
       "    <tr style=\"text-align: right;\">\n",
       "      <th></th>\n",
       "      <th>loan_amnt</th>\n",
       "      <th>term</th>\n",
       "      <th>emp_length</th>\n",
       "      <th>home_ownership</th>\n",
       "      <th>annual_inc</th>\n",
       "      <th>verification_status</th>\n",
       "      <th>purpose</th>\n",
       "      <th>dti</th>\n",
       "      <th>earliest_cr_line</th>\n",
       "      <th>open_acc</th>\n",
       "      <th>pub_rec</th>\n",
       "      <th>revol_bal</th>\n",
       "      <th>revol_util</th>\n",
       "      <th>total_acc</th>\n",
       "      <th>application_type</th>\n",
       "      <th>mort_acc</th>\n",
       "      <th>pub_rec_bankruptcies</th>\n",
       "      <th>fico_score</th>\n",
       "      <th>new_prediction</th>\n",
       "    </tr>\n",
       "  </thead>\n",
       "  <tbody>\n",
       "    <tr>\n",
       "      <th>0</th>\n",
       "      <td>16750.0</td>\n",
       "      <td>36 months</td>\n",
       "      <td>missing</td>\n",
       "      <td>RENT</td>\n",
       "      <td>4.510866590733636</td>\n",
       "      <td>Verified</td>\n",
       "      <td>debt_consolidation</td>\n",
       "      <td>16.65</td>\n",
       "      <td>2001.0</td>\n",
       "      <td>4.0</td>\n",
       "      <td>0</td>\n",
       "      <td>3.867113779831977</td>\n",
       "      <td>75.9</td>\n",
       "      <td>8.0</td>\n",
       "      <td>Individual</td>\n",
       "      <td>0</td>\n",
       "      <td>0</td>\n",
       "      <td>702.0</td>\n",
       "      <td>1</td>\n",
       "    </tr>\n",
       "    <tr>\n",
       "      <th>1</th>\n",
       "      <td>16750.0</td>\n",
       "      <td>60 months</td>\n",
       "      <td>missing</td>\n",
       "      <td>RENT</td>\n",
       "      <td>4.510866590733636</td>\n",
       "      <td>Verified</td>\n",
       "      <td>debt_consolidation</td>\n",
       "      <td>16.65</td>\n",
       "      <td>2001.0</td>\n",
       "      <td>4.0</td>\n",
       "      <td>0</td>\n",
       "      <td>3.577334315474175</td>\n",
       "      <td>75.9</td>\n",
       "      <td>7.0</td>\n",
       "      <td>Individual</td>\n",
       "      <td>0</td>\n",
       "      <td>0</td>\n",
       "      <td>702.0</td>\n",
       "      <td>0</td>\n",
       "    </tr>\n",
       "    <tr>\n",
       "      <th>2</th>\n",
       "      <td>16987.5</td>\n",
       "      <td>60 months</td>\n",
       "      <td>missing</td>\n",
       "      <td>RENT</td>\n",
       "      <td>4.634476101197249</td>\n",
       "      <td>Verified</td>\n",
       "      <td>debt_consolidation</td>\n",
       "      <td>19.255000000000003</td>\n",
       "      <td>2001.0</td>\n",
       "      <td>4.0</td>\n",
       "      <td>0</td>\n",
       "      <td>3.867113779831977</td>\n",
       "      <td>75.9</td>\n",
       "      <td>5.0</td>\n",
       "      <td>Individual</td>\n",
       "      <td>0</td>\n",
       "      <td>0</td>\n",
       "      <td>715.0</td>\n",
       "      <td>0</td>\n",
       "    </tr>\n",
       "  </tbody>\n",
       "</table>\n",
       "</div>"
      ],
      "text/plain": [
       "  loan_amnt       term emp_length home_ownership         annual_inc  \\\n",
       "0   16750.0  36 months    missing           RENT  4.510866590733636   \n",
       "1   16750.0  60 months    missing           RENT  4.510866590733636   \n",
       "2   16987.5  60 months    missing           RENT  4.634476101197249   \n",
       "\n",
       "  verification_status             purpose                 dti  \\\n",
       "0            Verified  debt_consolidation               16.65   \n",
       "1            Verified  debt_consolidation               16.65   \n",
       "2            Verified  debt_consolidation  19.255000000000003   \n",
       "\n",
       "  earliest_cr_line open_acc pub_rec          revol_bal revol_util total_acc  \\\n",
       "0           2001.0      4.0       0  3.867113779831977       75.9       8.0   \n",
       "1           2001.0      4.0       0  3.577334315474175       75.9       7.0   \n",
       "2           2001.0      4.0       0  3.867113779831977       75.9       5.0   \n",
       "\n",
       "  application_type mort_acc pub_rec_bankruptcies fico_score  new_prediction  \n",
       "0       Individual        0                    0      702.0               1  \n",
       "1       Individual        0                    0      702.0               0  \n",
       "2       Individual        0                    0      715.0               0  "
      ]
     },
     "execution_count": 12,
     "metadata": {},
     "output_type": "execute_result"
    }
   ],
   "source": [
    "# View counterfactual exampels as a dataframe\n",
    "cfs.to_df()"
   ]
  },
  {
   "cell_type": "code",
   "execution_count": 13,
   "metadata": {},
   "outputs": [
    {
     "name": "stdout",
     "output_type": "stream",
     "text": [
      "## Strategy 1 ##\n",
      "Change <term> from \"60 months\" to \"36 months\" \n",
      "\t* score gain: 0.7060\n",
      "\t* distance cost: 0.5554\n",
      "Change <total_acc> from 9.0 to 8.0 [7.5, 8.5)\n",
      "\t* score gain: 0.2304\n",
      "\t* distance cost: 0.1429\n",
      "\n",
      "## Strategy 2 ##\n",
      "Change <revol_bal> from 3.867113779831977 to 3.577334315474175 [3.568201581311275, 3.577434315474175)\n",
      "\t* score gain: 0.7290\n",
      "\t* distance cost: 1.1480\n",
      "Change <total_acc> from 9.0 to 7.0 [6.5, 7.5)\n",
      "\t* score gain: 0.2204\n",
      "\t* distance cost: 0.2857\n",
      "\n",
      "## Strategy 3 ##\n",
      "Change <loan_amnt> from 16750.0 to 16987.5 [16987.5, 17025.0)\n",
      "\t* score gain: 0.0132\n",
      "\t* distance cost: 0.0396\n",
      "Change <annual_inc> from 4.510866590733636 to 4.634476101197249 [4.634476101197249, 4.642066414881926)\n",
      "\t* score gain: 0.2979\n",
      "\t* distance cost: 0.8048\n",
      "Change <dti> from 16.65 to 19.255000000000003 [19.255000000000003, 19.325)\n",
      "\t* score gain: 0.1215\n",
      "\t* distance cost: 0.4480\n",
      "Change <total_acc> from 9.0 to 5.0 [4.5, 5.5)\n",
      "\t* score gain: 0.2031\n",
      "\t* distance cost: 0.5714\n",
      "Change <fico_score> from 702.0 to 715.0 [714.5, 719.5)\n",
      "\t* score gain: 0.2873\n",
      "\t* distance cost: 0.6500\n",
      "Trigger interaction term: <dti x fico_score>\n",
      "\t* score gain: 0.0642\n",
      "\t* distance cost: 0.0000\n",
      "Trigger interaction term: <total_acc x fico_score>\n",
      "\t* score gain: -0.1490\n",
      "\t* distance cost: 0.0000\n",
      "\n"
     ]
    }
   ],
   "source": [
    "# View counterfactual examples as \"strategies\" in text format\n",
    "cfs.show()"
   ]
  },
  {
   "cell_type": "markdown",
   "metadata": {},
   "source": [
    "## 4. Customize Counterfactual Generations\n",
    "\n",
    "In practice, generating good counterfactul (CF) explanations requires model builders to contextualize the use cases of these explantions.\n",
    "For example, to generate **actionable** CF explanations, one needs to consider what feature is possible to change and easy to change.\n",
    "\n",
    "By default, GAM Coach varries the distance measurement of each feature by taking account of its deviation in the trianing data.\n",
    "In other words, features that have higher deviations are considereed \"easier to change,\" and therefore have relatively smaller distance penaties.\n",
    "To do that, GAM Coach normalizes continuous features's [L1 distance](https://en.wikipedia.org/wiki/Taxicab_geometry) with [median absolute deviation](https://en.wikipedia.org/wiki/Median_absolute_deviation) and uses [complement probability](https://en.wikipedia.org/wiki/Complementary_event) to measure the distance between different levels within each categorical feature. Finally, GAM Coach recalibrates the distance scores of categorical features so that they have the same average score as continuous features.\n",
    "\n",
    "However, these automatically generated distance functions are not sufficient to model the complexity of real-life problems. For example, based on the training data alone, it is hard to tell if increasing `income` by $1k is easier or harder than increasing `FICO score` by 5 points for individual end users. Therefore, GAM Coach provides an easy-to-use API to enable model builders to customize counterfactual generations. For example, we can easily define the distance scores by providing `cont_mads` and `cat_distnaces` when instanciating a `GAMCoach` object. Moreover, we can impose mroe constraints to the the CF example generation. You can learn more from reading the API documentations by calling `?my_coach` and `?my_coach.generate_cfs`."
   ]
  },
  {
   "cell_type": "code",
   "execution_count": 16,
   "metadata": {},
   "outputs": [],
   "source": [
    "#?my_coach"
   ]
  },
  {
   "cell_type": "code",
   "execution_count": 19,
   "metadata": {},
   "outputs": [],
   "source": [
    "#?my_coach.generate_cfs"
   ]
  },
  {
   "cell_type": "markdown",
   "metadata": {},
   "source": [
    "There is a trade-off between the *number of features* that a CF can change and the *distance* between the generated CF and the original data point.\n",
    "However, in practice we tend to prefer CF explantions that change fewer features.\n",
    "Here we demonstrate how to control the sparsity of CF examples. We can easily impose this constraint by specifying the `max_num_features_to_vary` argument in `my_coach.generate_cfs`."
   ]
  },
  {
   "cell_type": "code",
   "execution_count": 21,
   "metadata": {},
   "outputs": [
    {
     "name": "stderr",
     "output_type": "stream",
     "text": [
      "100%|█████████████████████████████████████████████| 5/5 [00:04<00:00,  1.19it/s]"
     ]
    },
    {
     "name": "stdout",
     "output_type": "stream",
     "text": [
      "Found 5 counterfactual examples.\n"
     ]
    },
    {
     "name": "stderr",
     "output_type": "stream",
     "text": [
      "\n"
     ]
    }
   ],
   "source": [
    "# Here we allow GAM Coach to explore 14 features, but only change at most 2 features\n",
    "# for each CF example.\n",
    "# GAM Coach will find the best CF exampels that meet this constraint.\n",
    "\n",
    "cfs = my_coach.generate_cfs(\n",
    "    cur_example,\n",
    "    total_cfs=5,\n",
    "    # List of features that the CFs can change\n",
    "    features_to_vary=['loan_amnt', 'term', 'emp_length', 'home_ownership',\n",
    "                      'annual_inc', 'purpose', 'dti', 'open_acc', 'revol_bal',\n",
    "                      'revol_util', 'total_acc', 'application_type', 'mort_acc',\n",
    "                      'fico_score'],\n",
    "    # Some continuous features need to have integer values in practice\n",
    "    continuous_integer_features=['open_acc', 'total_acc', 'mort_acc', 'fico_score'],\n",
    "    # Only change at most 2 features for each CF\n",
    "    max_num_features_to_vary=2\n",
    ")"
   ]
  },
  {
   "cell_type": "code",
   "execution_count": 22,
   "metadata": {},
   "outputs": [
    {
     "name": "stdout",
     "output_type": "stream",
     "text": [
      "## Strategy 1 ##\n",
      "Change <term> from \"60 months\" to \"36 months\" \n",
      "\t* score gain: 0.7060\n",
      "\t* distance cost: 0.5554\n",
      "Change <total_acc> from 9.0 to 8.0 [7.5, 8.5)\n",
      "\t* score gain: 0.2304\n",
      "\t* distance cost: 0.1429\n",
      "\n",
      "## Strategy 2 ##\n",
      "Change <revol_bal> from 3.867113779831977 to 3.577334315474175 [3.568201581311275, 3.577434315474175)\n",
      "\t* score gain: 0.7290\n",
      "\t* distance cost: 1.1480\n",
      "Change <total_acc> from 9.0 to 7.0 [6.5, 7.5)\n",
      "\t* score gain: 0.2204\n",
      "\t* distance cost: 0.2857\n",
      "\n",
      "## Strategy 3 ##\n",
      "Change <purpose> from \"debt_consolidation\" to \"wedding\" \n",
      "\t* score gain: 0.8551\n",
      "\t* distance cost: 2.4449\n",
      "Change <fico_score> from 702.0 to 710.0 [709.5, 714.5)\n",
      "\t* score gain: 0.1499\n",
      "\t* distance cost: 0.4000\n",
      "\n",
      "## Strategy 4 ##\n",
      "Change <annual_inc> from 4.510866590733636 to 4.876504107510444 [4.876504107510444, 4.87957001311203)\n",
      "\t* score gain: 0.6683\n",
      "\t* distance cost: 2.3807\n",
      "Change <fico_score> from 702.0 to 715.0 [714.5, 719.5)\n",
      "\t* score gain: 0.2873\n",
      "\t* distance cost: 0.6500\n",
      "\n",
      "## Strategy 5 ##\n",
      "Change <annual_inc> from 4.510866590733636 to 4.1070569487122 [4.0, 4.1071569487122)\n",
      "\t* score gain: 0.7210\n",
      "\t* distance cost: 2.6286\n",
      "Change <total_acc> from 9.0 to 5.0 [4.5, 5.5)\n",
      "\t* score gain: 0.2031\n",
      "\t* distance cost: 0.5714\n",
      "\n"
     ]
    }
   ],
   "source": [
    "# View counterfactual examples as \"strategies\" in text format\n",
    "cfs.show()"
   ]
  },
  {
   "cell_type": "markdown",
   "metadata": {},
   "source": [
    "We can see that GAM Coach suggests the same top-2 strategies, but a different third strategy. Even though it is doubtful if the loan applicant can easily change the loan purpose from \"debt_consolidation\" to \"wedding\", the new strategy looks easier to understand than the old stragety (need to change `loan_amnt`, `annual_inc`, and `dti` to certain ranges)."
   ]
  },
  {
   "cell_type": "markdown",
   "metadata": {},
   "source": [
    "## 5. Conclusion\n",
    "\n",
    "In this notebook, we learn about how to use GAM Coach to generate diverse counterfactual explantions for an EBM binary classifier and customize the generation process. To learn more about GAM Coach, you can check out [our paper]() or raise an issue on [GitHub](https://github.com/xiaohk/gam-coach/issues). Happy coaching!"
   ]
  }
 ],
 "metadata": {
  "colab": {
   "collapsed_sections": [],
   "name": "gam-coach-binary-classification.ipynb",
   "provenance": []
  },
  "kernelspec": {
   "display_name": "Python 3 (ipykernel)",
   "language": "python",
   "name": "python3"
  },
  "language_info": {
   "codemirror_mode": {
    "name": "ipython",
    "version": 3
   },
   "file_extension": ".py",
   "mimetype": "text/x-python",
   "name": "python",
   "nbconvert_exporter": "python",
   "pygments_lexer": "ipython3",
   "version": "3.7.11"
  }
 },
 "nbformat": 4,
 "nbformat_minor": 4
}
