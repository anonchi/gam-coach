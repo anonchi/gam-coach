{
 "cells": [
  {
   "cell_type": "markdown",
   "metadata": {
    "id": "hy4E4RnHx0ZV"
   },
   "source": [
    "# GAM Coach: Binary Classification\n",
    "\n",
    "In this notebook, we will learn how to generate *diverse* and *customizable* counterfactual explanations for Generalized Additive Models (GAMs)."
   ]
  },
  {
   "cell_type": "markdown",
   "metadata": {
    "id": "h10Zagpizhlq"
   },
   "source": [
    "## 2. German\n"
   ]
  },
  {
   "cell_type": "code",
   "execution_count": 2,
   "metadata": {
    "id": "YXo8JPNixvON"
   },
   "outputs": [],
   "source": [
    "%load_ext autoreload\n",
    "%autoreload 2\n",
    "\n",
    "import gamcoach as coach\n",
    "\n",
    "import numpy as np\n",
    "import pandas as pd\n",
    "\n",
    "import dice_ml\n",
    "import urllib.request\n",
    "import json\n",
    "import pickle\n",
    "\n",
    "from interpret.glassbox import ExplainableBoostingClassifier\n",
    "from sklearn.model_selection import train_test_split\n",
    "from sklearn import metrics\n",
    "from collections import Counter\n",
    "from tqdm import tqdm\n",
    "\n",
    "SEED = 101221"
   ]
  },
  {
   "cell_type": "code",
   "execution_count": 28,
   "metadata": {
    "id": "Z7oLv8JI2N3S"
   },
   "outputs": [],
   "source": [
    "german_data = pd.read_csv('./data/german_credit.csv')\n",
    "german_data.head()\n",
    "\n",
    "\n",
    "# From https://github.com/amirhk/mace/blob/01e6a405ff74e24dc3438a005cd60892154d189d/_data_main/fair_adult_data.py\n",
    "german_attrs = [\n",
    "    \"account_check_status\",\n",
    "    \"duration_in_month\",\n",
    "    \"credit_history\",\n",
    "    \"purpose\",\n",
    "    \"credit_amount\",\n",
    "    \"savings\",\n",
    "    \"present_emp_since\",\n",
    "    \"installment_as_income_perc\",\n",
    "    \"personal_status_sex\",\n",
    "    \"other_debtors\",\n",
    "    \"present_res_since\",\n",
    "    \"property\",\n",
    "    \"age\",\n",
    "    \"other_installment_plans\",\n",
    "    \"housing\",\n",
    "    \"credits_this_bank\",\n",
    "    \"job\",\n",
    "    \"people_under_maintenance\",\n",
    "    \"telephone\",\n",
    "    \"foreign_worker\",\n",
    "]\n",
    "\n",
    "\n",
    "selected_features = [i for i in range(1, german_data.shape[1])]\n",
    "\n",
    "x_all = german_data.to_numpy()[:, selected_features]\n",
    "y_all_ints = german_data.iloc[:, 0].tolist()\n",
    "y_all = np.array(y_all_ints)\n",
    "\n",
    "german_feature_names = np.array(german_attrs)\n",
    "german_cont_indexes = [1, 4, 12]\n",
    "german_feature_types = [\n",
    "    \"continuous\" if i in german_cont_indexes else \"categorical\"\n",
    "    for i in range(len(german_feature_names))\n",
    "]\n",
    "\n",
    "\n",
    "for c in range(x_all.shape[1]):\n",
    "\n",
    "    if c in german_cont_indexes:\n",
    "        x_all[:, c] = x_all[:, c].astype(float)\n",
    "    else:\n",
    "        x_all[:, c] = x_all[:, c].astype(str)\n",
    "\n",
    "\n",
    "x_train, x_test, y_train, y_test = train_test_split(\n",
    "    x_all, y_all, test_size=0.3, random_state=SEED\n",
    ")"
   ]
  },
  {
   "cell_type": "code",
   "execution_count": 29,
   "metadata": {
    "colab": {
     "base_uri": "https://localhost:8080/"
    },
    "id": "NwZU3Zdzy1P9",
    "outputId": "59256bac-f13b-4eb2-bb6d-d9c45a25cfb1"
   },
   "outputs": [
    {
     "data": {
      "text/plain": [
       "ExplainableBoostingClassifier(feature_names=['account_check_status',\n",
       "                                             'duration_in_month',\n",
       "                                             'credit_history', 'purpose',\n",
       "                                             'credit_amount', 'savings',\n",
       "                                             'present_emp_since',\n",
       "                                             'installment_as_income_perc',\n",
       "                                             'personal_status_sex',\n",
       "                                             'other_debtors',\n",
       "                                             'present_res_since', 'property',\n",
       "                                             'age', 'other_installment_plans',\n",
       "                                             'housing', 'credits_this_bank',\n",
       "                                             'job', 'people_under_maintenan...\n",
       "                                             'continuous', 'categorical',\n",
       "                                             'categorical', 'categorical',\n",
       "                                             'categorical', 'categorical',\n",
       "                                             'categorical', 'categorical',\n",
       "                                             'continuous', 'categorical',\n",
       "                                             'categorical', 'categorical',\n",
       "                                             'categorical', 'categorical',\n",
       "                                             'categorical', 'categorical',\n",
       "                                             'interaction', 'interaction',\n",
       "                                             'interaction', 'interaction',\n",
       "                                             'interaction', 'interaction',\n",
       "                                             'interaction', 'interaction',\n",
       "                                             'interaction', 'interaction'])"
      ]
     },
     "execution_count": 29,
     "metadata": {},
     "output_type": "execute_result"
    }
   ],
   "source": [
    "# Train an EBM classifier\n",
    "german_ebm = ExplainableBoostingClassifier(feature_names=german_feature_names, feature_types=german_feature_types)\n",
    "german_ebm.fit(x_train, y_train)"
   ]
  },
  {
   "cell_type": "code",
   "execution_count": 30,
   "metadata": {
    "colab": {
     "base_uri": "https://localhost:8080/"
    },
    "id": "6qRN7SBS7-oZ",
    "outputId": "3c7afed2-8bb1-42be-f819-3387a96f2aec"
   },
   "outputs": [
    {
     "name": "stdout",
     "output_type": "stream",
     "text": [
      "Counter({0: 239, 1: 61})\n",
      "\n",
      "accuracy: 0.7533 \n",
      "auc: 0.7827 \n",
      "recall:0.4198 \n",
      "precision: 0.5574 specificity: 0.8767 \n",
      "f1: 0.4789\n",
      "balanced accuracy: 0.6482\n",
      "\n",
      "confusion matrix:\n",
      " [[192  27]\n",
      " [ 47  34]]\n"
     ]
    }
   ],
   "source": [
    "# Evaluate our model\n",
    "\n",
    "y_pred = german_ebm.predict(x_test)\n",
    "y_pred_prob = german_ebm.predict_proba(x_test)[:, 1]\n",
    "\n",
    "print(Counter(y_pred))\n",
    "print()\n",
    "\n",
    "accuracy = metrics.accuracy_score(y_test, y_pred)\n",
    "auc = metrics.roc_auc_score(y_test, y_pred_prob)\n",
    "f1 = metrics.f1_score(y_test, y_pred)\n",
    "recall = metrics.recall_score(y_test, y_pred)\n",
    "precision = metrics.precision_score(y_test, y_pred)\n",
    "balanced_accuracy = metrics.balanced_accuracy_score(y_test, y_pred)\n",
    "\n",
    "confusion_matrix = metrics.confusion_matrix(y_test, y_pred)\n",
    "\n",
    "tn = confusion_matrix[0, 0]\n",
    "fn = confusion_matrix[1, 0]\n",
    "fp = confusion_matrix[0, 1]\n",
    "tp = confusion_matrix[1, 1]\n",
    "specificity = tn / (tn + fp)\n",
    "\n",
    "temp = ('accuracy: {:.4f} \\nauc: {:.4f} \\nrecall:{:.4f} \\nprecision: {:.4f} '+\n",
    "    'specificity: {:.4f} \\nf1: {:.4f}\\nbalanced accuracy: {:.4f}')\n",
    "print(temp.format(accuracy, auc, recall, precision, specificity, f1, balanced_accuracy))\n",
    "print()\n",
    "\n",
    "print('confusion matrix:\\n', confusion_matrix)"
   ]
  },
  {
   "cell_type": "code",
   "execution_count": 31,
   "metadata": {
    "colab": {
     "base_uri": "https://localhost:8080/",
     "height": 309
    },
    "id": "JWuIT4rD8Caq",
    "outputId": "a24c4dee-37f2-48bc-8e40-d842c034d025"
   },
   "outputs": [
    {
     "data": {
      "text/html": [
       "<div>\n",
       "<style scoped>\n",
       "    .dataframe tbody tr th:only-of-type {\n",
       "        vertical-align: middle;\n",
       "    }\n",
       "\n",
       "    .dataframe tbody tr th {\n",
       "        vertical-align: top;\n",
       "    }\n",
       "\n",
       "    .dataframe thead th {\n",
       "        text-align: right;\n",
       "    }\n",
       "</style>\n",
       "<table border=\"1\" class=\"dataframe\">\n",
       "  <thead>\n",
       "    <tr style=\"text-align: right;\">\n",
       "      <th></th>\n",
       "      <th>account_check_status</th>\n",
       "      <th>duration_in_month</th>\n",
       "      <th>credit_history</th>\n",
       "      <th>purpose</th>\n",
       "      <th>credit_amount</th>\n",
       "      <th>savings</th>\n",
       "      <th>present_emp_since</th>\n",
       "      <th>installment_as_income_perc</th>\n",
       "      <th>personal_status_sex</th>\n",
       "      <th>other_debtors</th>\n",
       "      <th>...</th>\n",
       "      <th>property</th>\n",
       "      <th>age</th>\n",
       "      <th>other_installment_plans</th>\n",
       "      <th>housing</th>\n",
       "      <th>credits_this_bank</th>\n",
       "      <th>job</th>\n",
       "      <th>people_under_maintenance</th>\n",
       "      <th>telephone</th>\n",
       "      <th>foreign_worker</th>\n",
       "      <th>prediction</th>\n",
       "    </tr>\n",
       "  </thead>\n",
       "  <tbody>\n",
       "    <tr>\n",
       "      <th>0</th>\n",
       "      <td>&gt;= 200 DM / salary assignments for at least 1 ...</td>\n",
       "      <td>15.0</td>\n",
       "      <td>existing credits paid back duly till now</td>\n",
       "      <td>domestic appliances</td>\n",
       "      <td>2327.0</td>\n",
       "      <td>... &lt; 100 DM</td>\n",
       "      <td>... &lt; 1 year</td>\n",
       "      <td>2</td>\n",
       "      <td>female : divorced/separated/married</td>\n",
       "      <td>none</td>\n",
       "      <td>...</td>\n",
       "      <td>real estate</td>\n",
       "      <td>25.0</td>\n",
       "      <td>none</td>\n",
       "      <td>own</td>\n",
       "      <td>1</td>\n",
       "      <td>unskilled - resident</td>\n",
       "      <td>1</td>\n",
       "      <td>none</td>\n",
       "      <td>yes</td>\n",
       "      <td>0</td>\n",
       "    </tr>\n",
       "    <tr>\n",
       "      <th>1</th>\n",
       "      <td>no checking account</td>\n",
       "      <td>9.0</td>\n",
       "      <td>existing credits paid back duly till now</td>\n",
       "      <td>car (new)</td>\n",
       "      <td>3577.0</td>\n",
       "      <td>100 &lt;= ... &lt; 500 DM</td>\n",
       "      <td>1 &lt;= ... &lt; 4 years</td>\n",
       "      <td>1</td>\n",
       "      <td>male : single</td>\n",
       "      <td>guarantor</td>\n",
       "      <td>...</td>\n",
       "      <td>real estate</td>\n",
       "      <td>26.0</td>\n",
       "      <td>none</td>\n",
       "      <td>rent</td>\n",
       "      <td>1</td>\n",
       "      <td>skilled employee / official</td>\n",
       "      <td>2</td>\n",
       "      <td>none</td>\n",
       "      <td>no</td>\n",
       "      <td>0</td>\n",
       "    </tr>\n",
       "    <tr>\n",
       "      <th>2</th>\n",
       "      <td>no checking account</td>\n",
       "      <td>36.0</td>\n",
       "      <td>critical account/ other credits existing (not ...</td>\n",
       "      <td>car (new)</td>\n",
       "      <td>3535.0</td>\n",
       "      <td>... &lt; 100 DM</td>\n",
       "      <td>4 &lt;= ... &lt; 7 years</td>\n",
       "      <td>4</td>\n",
       "      <td>male : single</td>\n",
       "      <td>none</td>\n",
       "      <td>...</td>\n",
       "      <td>if not A121/A122 : car or other, not in attrib...</td>\n",
       "      <td>37.0</td>\n",
       "      <td>none</td>\n",
       "      <td>own</td>\n",
       "      <td>2</td>\n",
       "      <td>skilled employee / official</td>\n",
       "      <td>1</td>\n",
       "      <td>yes, registered under the customers name</td>\n",
       "      <td>yes</td>\n",
       "      <td>0</td>\n",
       "    </tr>\n",
       "    <tr>\n",
       "      <th>3</th>\n",
       "      <td>no checking account</td>\n",
       "      <td>24.0</td>\n",
       "      <td>critical account/ other credits existing (not ...</td>\n",
       "      <td>car (used)</td>\n",
       "      <td>4042.0</td>\n",
       "      <td>unknown/ no savings account</td>\n",
       "      <td>4 &lt;= ... &lt; 7 years</td>\n",
       "      <td>3</td>\n",
       "      <td>male : single</td>\n",
       "      <td>none</td>\n",
       "      <td>...</td>\n",
       "      <td>if not A121 : building society savings agreeme...</td>\n",
       "      <td>43.0</td>\n",
       "      <td>none</td>\n",
       "      <td>own</td>\n",
       "      <td>2</td>\n",
       "      <td>skilled employee / official</td>\n",
       "      <td>1</td>\n",
       "      <td>yes, registered under the customers name</td>\n",
       "      <td>yes</td>\n",
       "      <td>0</td>\n",
       "    </tr>\n",
       "    <tr>\n",
       "      <th>4</th>\n",
       "      <td>no checking account</td>\n",
       "      <td>24.0</td>\n",
       "      <td>critical account/ other credits existing (not ...</td>\n",
       "      <td>car (used)</td>\n",
       "      <td>6842.0</td>\n",
       "      <td>unknown/ no savings account</td>\n",
       "      <td>1 &lt;= ... &lt; 4 years</td>\n",
       "      <td>2</td>\n",
       "      <td>male : single</td>\n",
       "      <td>none</td>\n",
       "      <td>...</td>\n",
       "      <td>if not A121 : building society savings agreeme...</td>\n",
       "      <td>46.0</td>\n",
       "      <td>none</td>\n",
       "      <td>own</td>\n",
       "      <td>2</td>\n",
       "      <td>management/ self-employed/ highly qualified em...</td>\n",
       "      <td>2</td>\n",
       "      <td>yes, registered under the customers name</td>\n",
       "      <td>yes</td>\n",
       "      <td>0</td>\n",
       "    </tr>\n",
       "  </tbody>\n",
       "</table>\n",
       "<p>5 rows × 21 columns</p>\n",
       "</div>"
      ],
      "text/plain": [
       "                                account_check_status duration_in_month  \\\n",
       "0  >= 200 DM / salary assignments for at least 1 ...              15.0   \n",
       "1                                no checking account               9.0   \n",
       "2                                no checking account              36.0   \n",
       "3                                no checking account              24.0   \n",
       "4                                no checking account              24.0   \n",
       "\n",
       "                                      credit_history              purpose  \\\n",
       "0           existing credits paid back duly till now  domestic appliances   \n",
       "1           existing credits paid back duly till now            car (new)   \n",
       "2  critical account/ other credits existing (not ...            car (new)   \n",
       "3  critical account/ other credits existing (not ...           car (used)   \n",
       "4  critical account/ other credits existing (not ...           car (used)   \n",
       "\n",
       "  credit_amount                      savings   present_emp_since  \\\n",
       "0        2327.0                 ... < 100 DM       ... < 1 year    \n",
       "1        3577.0          100 <= ... < 500 DM  1 <= ... < 4 years   \n",
       "2        3535.0                 ... < 100 DM  4 <= ... < 7 years   \n",
       "3        4042.0  unknown/ no savings account  4 <= ... < 7 years   \n",
       "4        6842.0  unknown/ no savings account  1 <= ... < 4 years   \n",
       "\n",
       "  installment_as_income_perc                  personal_status_sex  \\\n",
       "0                          2  female : divorced/separated/married   \n",
       "1                          1                        male : single   \n",
       "2                          4                        male : single   \n",
       "3                          3                        male : single   \n",
       "4                          2                        male : single   \n",
       "\n",
       "  other_debtors  ...                                           property   age  \\\n",
       "0          none  ...                                        real estate  25.0   \n",
       "1     guarantor  ...                                        real estate  26.0   \n",
       "2          none  ...  if not A121/A122 : car or other, not in attrib...  37.0   \n",
       "3          none  ...  if not A121 : building society savings agreeme...  43.0   \n",
       "4          none  ...  if not A121 : building society savings agreeme...  46.0   \n",
       "\n",
       "  other_installment_plans housing credits_this_bank  \\\n",
       "0                    none     own                 1   \n",
       "1                    none    rent                 1   \n",
       "2                    none     own                 2   \n",
       "3                    none     own                 2   \n",
       "4                    none     own                 2   \n",
       "\n",
       "                                                 job people_under_maintenance  \\\n",
       "0                               unskilled - resident                        1   \n",
       "1                        skilled employee / official                        2   \n",
       "2                        skilled employee / official                        1   \n",
       "3                        skilled employee / official                        1   \n",
       "4  management/ self-employed/ highly qualified em...                        2   \n",
       "\n",
       "                                   telephone foreign_worker prediction  \n",
       "0                                       none            yes          0  \n",
       "1                                       none             no          0  \n",
       "2  yes, registered under the customers name             yes          0  \n",
       "3  yes, registered under the customers name             yes          0  \n",
       "4  yes, registered under the customers name             yes          0  \n",
       "\n",
       "[5 rows x 21 columns]"
      ]
     },
     "execution_count": 31,
     "metadata": {},
     "output_type": "execute_result"
    }
   ],
   "source": [
    "# Find an interesting data point\n",
    "# We can focus on test cases where our model rejcets the application (y_hat = 0)\n",
    "reject_index = y_pred == 0\n",
    "x_reject = x_test[reject_index, :]\n",
    "y_pred_reject = y_pred[reject_index]\n",
    "\n",
    "explain_df = pd.DataFrame(x_reject)\n",
    "explain_df.columns = german_feature_names\n",
    "\n",
    "for c in range(len(german_feature_names)):\n",
    "    name = german_feature_names[c]\n",
    "    if c in german_cont_indexes:\n",
    "        explain_df[name] = explain_df[name].astype(float)\n",
    "    else:\n",
    "        explain_df[name] = explain_df[name].astype(str)\n",
    "\n",
    "reject_df = pd.DataFrame(np.hstack((x_reject, y_pred_reject.reshape(-1, 1))))\n",
    "reject_df.columns = german_feature_names.tolist() + ['prediction']\n",
    "reject_df.head()"
   ]
  },
  {
   "cell_type": "code",
   "execution_count": 32,
   "metadata": {},
   "outputs": [],
   "source": [
    "def evaluate_cf(x1, x2, feature_names, cont_mads):\n",
    "    cur_distance = 0\n",
    "    feature_weight = 1 / len(feature_names)\n",
    "    changed_feature = 0\n",
    "\n",
    "    for i in range(len(feature_names)):\n",
    "        cur_name = feature_names[i]\n",
    "\n",
    "        # If the current feature is continuous\n",
    "        if cur_name in cont_mads:\n",
    "            if cont_mads[cur_name] > 0:\n",
    "                cur_distance += (\n",
    "                    feature_weight * abs(float(x2[i]) - float(x1[i])) / cont_mads[cur_name]\n",
    "                )\n",
    "            else:\n",
    "                cur_distance += (\n",
    "                    feature_weight * abs(float(x2[i]) - float(x1[i]))\n",
    "                )\n",
    "        else:\n",
    "            cur_distance += 1 if x1[i] != x2[i] else 0\n",
    "\n",
    "        if x1[i] != x2[i]:\n",
    "            changed_feature += 1\n",
    "\n",
    "    return cur_distance, changed_feature\n"
   ]
  },
  {
   "cell_type": "markdown",
   "metadata": {
    "id": "mn-vGLMdFtuM"
   },
   "source": [
    "### 1.1. GAM Coach"
   ]
  },
  {
   "cell_type": "code",
   "execution_count": 33,
   "metadata": {
    "colab": {
     "base_uri": "https://localhost:8080/"
    },
    "id": "q1aMWvOWJ0k8",
    "outputId": "55e61872-e1eb-4488-f947-de01d31046b6"
   },
   "outputs": [],
   "source": [
    "features_to_vary = german_feature_names.tolist()"
   ]
  },
  {
   "cell_type": "code",
   "execution_count": 34,
   "metadata": {},
   "outputs": [
    {
     "data": {
      "text/plain": [
       "[1, 4, 12]"
      ]
     },
     "execution_count": 34,
     "metadata": {},
     "output_type": "execute_result"
    }
   ],
   "source": [
    "german_cont_indexes"
   ]
  },
  {
   "cell_type": "code",
   "execution_count": 35,
   "metadata": {},
   "outputs": [
    {
     "data": {
      "text/plain": [
       "array(['>= 200 DM / salary assignments for at least 1 year', 15.0,\n",
       "       'existing credits paid back duly till now', 'domestic appliances',\n",
       "       2327.0, '... < 100 DM', '... < 1 year ', '2',\n",
       "       'female : divorced/separated/married', 'none', '3', 'real estate',\n",
       "       25.0, 'none', 'own', '1', 'unskilled - resident', '1', 'none',\n",
       "       'yes'], dtype=object)"
      ]
     },
     "execution_count": 35,
     "metadata": {},
     "output_type": "execute_result"
    }
   ],
   "source": [
    "explain_df.iloc[0, :].to_numpy()"
   ]
  },
  {
   "cell_type": "code",
   "execution_count": 36,
   "metadata": {},
   "outputs": [
    {
     "name": "stderr",
     "output_type": "stream",
     "text": [
      "100%|██████████| 239/239 [03:51<00:00,  1.03it/s]\n"
     ]
    }
   ],
   "source": [
    "my_coach = coach.GAMCoach(german_ebm, x_train, adjust_cat_distance=False)\n",
    "\n",
    "cfs = []\n",
    "for i in tqdm(range(explain_df.shape[0])):\n",
    "\n",
    "    # try:\n",
    "    cf = my_coach.generate_cfs(\n",
    "        explain_df.iloc[i, :].to_numpy(),\n",
    "        total_cfs=1,\n",
    "        verbose=0,\n",
    "        categorical_weight=1\n",
    "        # Some continuous features need to have integer values in practice\n",
    "        # continuous_integer_features=[\"open_acc\", \"total_acc\", \"mort_acc\", \"fico_score\"],\n",
    "    )\n",
    "\n",
    "    cfs.append([explain_df.iloc[i, :], cf.to_df().iloc[0, :]])\n",
    "    # except:\n",
    "    #     cfs.append(None)"
   ]
  },
  {
   "cell_type": "code",
   "execution_count": 37,
   "metadata": {},
   "outputs": [],
   "source": [
    "pickle.dump(cfs, open('./data/german-coach-cfs.pkl', 'wb'))"
   ]
  },
  {
   "cell_type": "code",
   "execution_count": 39,
   "metadata": {},
   "outputs": [],
   "source": [
    "distances, feature_nums, failed_indexes = [], [], []\n",
    "\n",
    "for i in range(len(cfs)):\n",
    "    if cfs[i] is None:\n",
    "        failed_indexes.append(i)\n",
    "        continue\n",
    "\n",
    "    x1 = cfs[i][0]\n",
    "    x2 = cfs[i][1][:-1]\n",
    "\n",
    "    cur_distance, changed_feature = evaluate_cf(x1, x2, german_feature_names, my_coach.cont_mads)\n",
    "    \n",
    "    distances.append(cur_distance)\n",
    "    feature_nums.append(changed_feature)"
   ]
  },
  {
   "cell_type": "code",
   "execution_count": 40,
   "metadata": {},
   "outputs": [
    {
     "name": "stdout",
     "output_type": "stream",
     "text": [
      "coach \n",
      "distance:  1.1392360658284462 \n",
      "num:  2.096234309623431 \n",
      "fails:  0\n"
     ]
    }
   ],
   "source": [
    "print(\n",
    "    \"coach\",\n",
    "    \"\\ndistance: \",\n",
    "    np.mean(distances),\n",
    "    \"\\nnum: \",\n",
    "    np.mean(feature_nums),\n",
    "    \"\\nfails: \",\n",
    "    len(failed_indexes),\n",
    ")\n"
   ]
  },
  {
   "cell_type": "markdown",
   "metadata": {},
   "source": [
    "### 1.2. Genetic Algorithm"
   ]
  },
  {
   "cell_type": "code",
   "execution_count": 43,
   "metadata": {},
   "outputs": [],
   "source": [
    "dice_df = pd.DataFrame(x_train)\n",
    "dice_df.columns = german_feature_names\n",
    "dice_df['status'] = y_train\n",
    "\n",
    "feature_names_cont = german_feature_names[german_cont_indexes]\n",
    "\n",
    "for c in feature_names_cont:\n",
    "    dice_df[c] = dice_df[c].astype(float)\n",
    "\n",
    "dice_data = dice_ml.Data(\n",
    "    dataframe=dice_df,\n",
    "    continuous_features=feature_names_cont.tolist(),\n",
    "    outcome_name='status'\n",
    ")\n",
    "\n",
    "dice_model = dice_ml.Model(model=german_ebm, backend='sklearn')"
   ]
  },
  {
   "cell_type": "code",
   "execution_count": 44,
   "metadata": {},
   "outputs": [
    {
     "name": "stderr",
     "output_type": "stream",
     "text": [
      "100%|██████████| 239/239 [01:12<00:00,  3.31it/s]\n"
     ]
    }
   ],
   "source": [
    "exp = dice_ml.Dice(dice_data, dice_model, method='genetic')\n",
    "\n",
    "dice_rejected_df = explain_df.copy()\n",
    "for c in feature_names_cont:\n",
    "    dice_rejected_df[c] = dice_rejected_df[c].astype(float)\n",
    "\n",
    "explanation_generic = exp.generate_counterfactuals(\n",
    "    dice_rejected_df,\n",
    "    total_CFs=1,\n",
    "    features_to_vary=features_to_vary,\n",
    "    # posthoc_sparsity_param=0.2,\n",
    "    verbose=False,\n",
    "    desired_class=\"opposite\")"
   ]
  },
  {
   "cell_type": "code",
   "execution_count": 45,
   "metadata": {},
   "outputs": [],
   "source": [
    "g_distances, g_feature_nums, g_failed_indexes = [], [], []\n",
    "\n",
    "for i in range(len(explanation_generic.cf_examples_list)):\n",
    "    if explanation_generic.cf_examples_list[i].final_cfs_df is None:\n",
    "        g_failed_indexes.append(i)\n",
    "        continue\n",
    "\n",
    "    x1 = dice_rejected_df.iloc[i, :]\n",
    "    x2 = explanation_generic.cf_examples_list[i].final_cfs_df.iloc[0, :]\n",
    "\n",
    "    cur_distance, changed_feature = evaluate_cf(x1, x2, german_feature_names, my_coach.cont_mads)\n",
    "    \n",
    "    g_distances.append(cur_distance)\n",
    "    g_feature_nums.append(changed_feature)\n"
   ]
  },
  {
   "cell_type": "code",
   "execution_count": 46,
   "metadata": {},
   "outputs": [
    {
     "name": "stdout",
     "output_type": "stream",
     "text": [
      "generic \n",
      "distance:  6.85726886394003 \n",
      "num:  9.330543933054393 \n",
      "fails:  0\n"
     ]
    }
   ],
   "source": [
    "print(\n",
    "    \"generic\",\n",
    "    \"\\ndistance: \",\n",
    "    np.mean(g_distances),\n",
    "    \"\\nnum: \",\n",
    "    np.mean(g_feature_nums),\n",
    "    \"\\nfails: \",\n",
    "    len(g_failed_indexes),\n",
    ")\n"
   ]
  },
  {
   "cell_type": "markdown",
   "metadata": {},
   "source": [
    "## KD Trees"
   ]
  },
  {
   "cell_type": "code",
   "execution_count": 48,
   "metadata": {},
   "outputs": [
    {
     "name": "stderr",
     "output_type": "stream",
     "text": [
      "100%|██████████| 239/239 [10:53<00:00,  2.74s/it]\n"
     ]
    }
   ],
   "source": [
    "exp = dice_ml.Dice(dice_data, dice_model, method='kdtree')\n",
    "\n",
    "dice_rejected_df = explain_df.copy()\n",
    "for c in feature_names_cont:\n",
    "    dice_rejected_df[c] = dice_rejected_df[c].astype(float)\n",
    "\n",
    "explanation_tree = exp.generate_counterfactuals(\n",
    "    dice_rejected_df,\n",
    "    total_CFs=1,\n",
    "    features_to_vary=features_to_vary,\n",
    "    # posthoc_sparsity_param=0.2,\n",
    "    verbose=False,\n",
    "    desired_class=\"opposite\")"
   ]
  },
  {
   "cell_type": "code",
   "execution_count": 50,
   "metadata": {},
   "outputs": [],
   "source": [
    "k_distances, k_feature_nums, k_failed_indexes = [], [], []\n",
    "\n",
    "for i in range(len(explanation_tree.cf_examples_list)):\n",
    "    if explanation_tree.cf_examples_list[i].final_cfs_df is None:\n",
    "        k_failed_indexes.append(i)\n",
    "        continue\n",
    "\n",
    "    if explanation_tree.cf_examples_list[i].final_cfs_df.shape == (0, 0):\n",
    "        k_failed_indexes.append(i)\n",
    "        continue\n",
    "\n",
    "    x1 = dice_rejected_df.iloc[i, :]\n",
    "    x2 = explanation_tree.cf_examples_list[i].final_cfs_df.iloc[0, :]\n",
    "\n",
    "    cur_distance, changed_feature = evaluate_cf(x1, x2, german_feature_names, my_coach.cont_mads)\n",
    "    \n",
    "    k_distances.append(cur_distance)\n",
    "    k_feature_nums.append(changed_feature)\n"
   ]
  },
  {
   "cell_type": "code",
   "execution_count": 51,
   "metadata": {},
   "outputs": [
    {
     "name": "stdout",
     "output_type": "stream",
     "text": [
      "tree \n",
      "distance:  7.356541890019207 \n",
      "num:  9.94142259414226 \n",
      "fails:  0\n"
     ]
    }
   ],
   "source": [
    "print(\n",
    "    \"tree\",\n",
    "    \"\\ndistance: \",\n",
    "    np.mean(k_distances),\n",
    "    \"\\nnum: \",\n",
    "    np.mean(k_feature_nums),\n",
    "    \"\\nfails: \",\n",
    "    len(k_failed_indexes),\n",
    ")\n"
   ]
  },
  {
   "cell_type": "code",
   "execution_count": 53,
   "metadata": {},
   "outputs": [
    {
     "data": {
      "text/plain": [
       "(239, 20)"
      ]
     },
     "execution_count": 53,
     "metadata": {},
     "output_type": "execute_result"
    }
   ],
   "source": [
    "dice_rejected_df.shape"
   ]
  },
  {
   "cell_type": "code",
   "execution_count": null,
   "metadata": {},
   "outputs": [],
   "source": []
  }
 ],
 "metadata": {
  "colab": {
   "collapsed_sections": [],
   "name": "gam-coach-binary-classification.ipynb",
   "provenance": []
  },
  "kernelspec": {
   "display_name": "Python 3.7.10 ('gam')",
   "language": "python",
   "name": "python3"
  },
  "language_info": {
   "codemirror_mode": {
    "name": "ipython",
    "version": 3
   },
   "file_extension": ".py",
   "mimetype": "text/x-python",
   "name": "python",
   "nbconvert_exporter": "python",
   "pygments_lexer": "ipython3",
   "version": "3.7.10"
  },
  "vscode": {
   "interpreter": {
    "hash": "873180efce40cd0f92c6f277e3717bf56751c1b9e1ee0ff98acce134a686d5e5"
   }
  }
 },
 "nbformat": 4,
 "nbformat_minor": 4
}
