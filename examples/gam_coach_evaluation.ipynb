{
 "cells": [
  {
   "cell_type": "markdown",
   "metadata": {
    "id": "hy4E4RnHx0ZV"
   },
   "source": [
    "# GAM Coach: Binary Classification\n",
    "\n",
    "In this notebook, we will learn how to generate *diverse* and *customizable* counterfactual explanations for Generalized Additive Models (GAMs)."
   ]
  },
  {
   "cell_type": "markdown",
   "metadata": {
    "id": "h10Zagpizhlq"
   },
   "source": [
    "## 1. Lending Club\n",
    "\n",
    "Let's train a binary classification model using EBM on the Lending Club dataset. The dataset contains financial information (18 features) of 5000 loan applicants. The target variable has a binary value: `1` if the person paid off the loan and `0` if the person failed to pay off the loan. To learn more about how we generate this dataset, check out our [GAM Coach paper]().\n",
    "\n",
    "We can use this dataset to train a binary classifier to make future loan decisions (only for demo purpose)."
   ]
  },
  {
   "cell_type": "code",
   "execution_count": 1,
   "metadata": {
    "id": "YXo8JPNixvON"
   },
   "outputs": [],
   "source": [
    "%load_ext autoreload\n",
    "%autoreload 2\n",
    "\n",
    "import gamcoach as coach\n",
    "\n",
    "import numpy as np\n",
    "import pandas as pd\n",
    "\n",
    "import dice_ml\n",
    "import urllib.request\n",
    "import json\n",
    "import pickle\n",
    "\n",
    "from interpret.glassbox import ExplainableBoostingClassifier\n",
    "from sklearn.model_selection import train_test_split\n",
    "from sklearn import metrics\n",
    "from collections import Counter\n",
    "from tqdm import tqdm\n",
    "from matplotlib import pyplot as plt\n",
    "\n",
    "SEED = 101221"
   ]
  },
  {
   "cell_type": "code",
   "execution_count": 2,
   "metadata": {
    "id": "Z7oLv8JI2N3S"
   },
   "outputs": [],
   "source": [
    "# Load a pre-processed lending club dataset\n",
    "ca_data_url = 'https://gist.githubusercontent.com/xiaohk/06266553d43e591817914bfe52ec9b60/raw/c190b7cea837739797336d690fe44df9d8f9384c/lending-club-data-5000-ca.json'\n",
    "\n",
    "with urllib.request.urlopen(ca_data_url) as url:\n",
    "    data = json.loads(url.read().decode())\n",
    "\n",
    "# Load the training data\n",
    "x_all = np.array(data['x_all'])\n",
    "y_all = np.array(data['y_all']) # `y_all`: 1 if paid off, 0 if failed to pay off\n",
    "\n",
    "# Load some meta data\n",
    "feature_names = data['feature_names']\n",
    "feature_types = data['feature_types']\n",
    "cont_index = data['cont_index']\n",
    "cat_index = data['cat_index']\n",
    "\n",
    "# Use float to encode continuous features and string for categorical features\n",
    "for i, t in enumerate(feature_types):\n",
    "    if t == 'continuous':\n",
    "        x_all[:, i] = x_all[:, i].astype(float)\n",
    "    elif t == 'categorical':\n",
    "        x_all[:, i] = x_all[:, i].astype(str)"
   ]
  },
  {
   "cell_type": "code",
   "execution_count": 3,
   "metadata": {
    "colab": {
     "base_uri": "https://localhost:8080/",
     "height": 309
    },
    "id": "ZDGWfmDMxsuM",
    "outputId": "62a266b3-3ccb-492a-a536-e9428772c669"
   },
   "outputs": [
    {
     "data": {
      "text/html": [
       "<div>\n",
       "<style scoped>\n",
       "    .dataframe tbody tr th:only-of-type {\n",
       "        vertical-align: middle;\n",
       "    }\n",
       "\n",
       "    .dataframe tbody tr th {\n",
       "        vertical-align: top;\n",
       "    }\n",
       "\n",
       "    .dataframe thead th {\n",
       "        text-align: right;\n",
       "    }\n",
       "</style>\n",
       "<table border=\"1\" class=\"dataframe\">\n",
       "  <thead>\n",
       "    <tr style=\"text-align: right;\">\n",
       "      <th></th>\n",
       "      <th>loan_amnt</th>\n",
       "      <th>term</th>\n",
       "      <th>emp_length</th>\n",
       "      <th>home_ownership</th>\n",
       "      <th>annual_inc</th>\n",
       "      <th>verification_status</th>\n",
       "      <th>purpose</th>\n",
       "      <th>dti</th>\n",
       "      <th>earliest_cr_line</th>\n",
       "      <th>open_acc</th>\n",
       "      <th>pub_rec</th>\n",
       "      <th>revol_bal</th>\n",
       "      <th>revol_util</th>\n",
       "      <th>total_acc</th>\n",
       "      <th>application_type</th>\n",
       "      <th>mort_acc</th>\n",
       "      <th>pub_rec_bankruptcies</th>\n",
       "      <th>fico_score</th>\n",
       "    </tr>\n",
       "  </thead>\n",
       "  <tbody>\n",
       "    <tr>\n",
       "      <th>0</th>\n",
       "      <td>10000.0</td>\n",
       "      <td>36 months</td>\n",
       "      <td>3 years</td>\n",
       "      <td>RENT</td>\n",
       "      <td>4.662757831681574</td>\n",
       "      <td>Source Verified</td>\n",
       "      <td>debt_consolidation</td>\n",
       "      <td>15.11</td>\n",
       "      <td>1998.0</td>\n",
       "      <td>8.0</td>\n",
       "      <td>1</td>\n",
       "      <td>3.693990610460777</td>\n",
       "      <td>23.0</td>\n",
       "      <td>12.0</td>\n",
       "      <td>Individual</td>\n",
       "      <td>0</td>\n",
       "      <td>1</td>\n",
       "      <td>707.0</td>\n",
       "    </tr>\n",
       "    <tr>\n",
       "      <th>1</th>\n",
       "      <td>12000.0</td>\n",
       "      <td>36 months</td>\n",
       "      <td>3 years</td>\n",
       "      <td>RENT</td>\n",
       "      <td>4.653212513775344</td>\n",
       "      <td>Verified</td>\n",
       "      <td>debt_consolidation</td>\n",
       "      <td>26.29</td>\n",
       "      <td>1999.0</td>\n",
       "      <td>14.0</td>\n",
       "      <td>0</td>\n",
       "      <td>4.35173834558076</td>\n",
       "      <td>64.4</td>\n",
       "      <td>27.0</td>\n",
       "      <td>Individual</td>\n",
       "      <td>0</td>\n",
       "      <td>0</td>\n",
       "      <td>692.0</td>\n",
       "    </tr>\n",
       "    <tr>\n",
       "      <th>2</th>\n",
       "      <td>9600.0</td>\n",
       "      <td>36 months</td>\n",
       "      <td>8 years</td>\n",
       "      <td>RENT</td>\n",
       "      <td>4.653212513775344</td>\n",
       "      <td>Verified</td>\n",
       "      <td>debt_consolidation</td>\n",
       "      <td>20.05</td>\n",
       "      <td>2000.0</td>\n",
       "      <td>22.0</td>\n",
       "      <td>1</td>\n",
       "      <td>3.6242820958356683</td>\n",
       "      <td>17.4</td>\n",
       "      <td>35.0</td>\n",
       "      <td>Individual</td>\n",
       "      <td>0</td>\n",
       "      <td>1</td>\n",
       "      <td>687.0</td>\n",
       "    </tr>\n",
       "    <tr>\n",
       "      <th>3</th>\n",
       "      <td>35000.0</td>\n",
       "      <td>60 months</td>\n",
       "      <td>10+ years</td>\n",
       "      <td>MORTGAGE</td>\n",
       "      <td>5.1303337684950066</td>\n",
       "      <td>Verified</td>\n",
       "      <td>debt_consolidation</td>\n",
       "      <td>17.29</td>\n",
       "      <td>1991.0</td>\n",
       "      <td>15.0</td>\n",
       "      <td>2+</td>\n",
       "      <td>4.161787118745523</td>\n",
       "      <td>74.4</td>\n",
       "      <td>21.0</td>\n",
       "      <td>Individual</td>\n",
       "      <td>1</td>\n",
       "      <td>0</td>\n",
       "      <td>677.0</td>\n",
       "    </tr>\n",
       "    <tr>\n",
       "      <th>4</th>\n",
       "      <td>14500.0</td>\n",
       "      <td>36 months</td>\n",
       "      <td>6 years</td>\n",
       "      <td>RENT</td>\n",
       "      <td>4.623249290397901</td>\n",
       "      <td>Not Verified</td>\n",
       "      <td>credit_card</td>\n",
       "      <td>17.89</td>\n",
       "      <td>2005.0</td>\n",
       "      <td>10.0</td>\n",
       "      <td>0</td>\n",
       "      <td>3.843855422623161</td>\n",
       "      <td>59.7</td>\n",
       "      <td>19.0</td>\n",
       "      <td>Individual</td>\n",
       "      <td>0</td>\n",
       "      <td>0</td>\n",
       "      <td>707.0</td>\n",
       "    </tr>\n",
       "  </tbody>\n",
       "</table>\n",
       "</div>"
      ],
      "text/plain": [
       "  loan_amnt       term emp_length home_ownership          annual_inc  \\\n",
       "0   10000.0  36 months    3 years           RENT   4.662757831681574   \n",
       "1   12000.0  36 months    3 years           RENT   4.653212513775344   \n",
       "2    9600.0  36 months    8 years           RENT   4.653212513775344   \n",
       "3   35000.0  60 months  10+ years       MORTGAGE  5.1303337684950066   \n",
       "4   14500.0  36 months    6 years           RENT   4.623249290397901   \n",
       "\n",
       "  verification_status             purpose    dti earliest_cr_line open_acc  \\\n",
       "0     Source Verified  debt_consolidation  15.11           1998.0      8.0   \n",
       "1            Verified  debt_consolidation  26.29           1999.0     14.0   \n",
       "2            Verified  debt_consolidation  20.05           2000.0     22.0   \n",
       "3            Verified  debt_consolidation  17.29           1991.0     15.0   \n",
       "4        Not Verified         credit_card  17.89           2005.0     10.0   \n",
       "\n",
       "  pub_rec           revol_bal revol_util total_acc application_type mort_acc  \\\n",
       "0       1   3.693990610460777       23.0      12.0       Individual        0   \n",
       "1       0    4.35173834558076       64.4      27.0       Individual        0   \n",
       "2       1  3.6242820958356683       17.4      35.0       Individual        0   \n",
       "3      2+   4.161787118745523       74.4      21.0       Individual        1   \n",
       "4       0   3.843855422623161       59.7      19.0       Individual        0   \n",
       "\n",
       "  pub_rec_bankruptcies fico_score  \n",
       "0                    1      707.0  \n",
       "1                    0      692.0  \n",
       "2                    1      687.0  \n",
       "3                    0      677.0  \n",
       "4                    0      707.0  "
      ]
     },
     "execution_count": 3,
     "metadata": {},
     "output_type": "execute_result"
    }
   ],
   "source": [
    "# Create a dataFrame to validate that we load the correct data\n",
    "df = pd.DataFrame(x_all)\n",
    "df.columns = feature_names\n",
    "\n",
    "df.head()"
   ]
  },
  {
   "cell_type": "code",
   "execution_count": 4,
   "metadata": {
    "colab": {
     "base_uri": "https://localhost:8080/"
    },
    "id": "NwZU3Zdzy1P9",
    "outputId": "59256bac-f13b-4eb2-bb6d-d9c45a25cfb1"
   },
   "outputs": [],
   "source": [
    "# Train a binary classifier\n",
    "x_train, x_test, y_train, y_test = train_test_split(x_all,\n",
    "                                                    y_all,\n",
    "                                                    test_size=0.2,\n",
    "                                                    random_state=SEED)\n",
    "\n",
    "# Use sample weight to combat class imbalance\n",
    "weight = np.bincount(y_train)[1] / np.bincount(y_train)[0]\n",
    "x_train_sample_weights = [weight if y_train[i] == 0 else 1 for i in range(len(y_train))]\n",
    "\n",
    "# ebm = ExplainableBoostingClassifier(feature_names,\n",
    "#                                     feature_types,\n",
    "#                                     random_state=SEED)\n",
    "\n",
    "# ebm.fit(x_train, y_train, sample_weight=x_train_sample_weights)\n",
    "# pickle.dump(ebm, open('./model_pickles/lending-binary.pkl', 'wb'))\n",
    "\n",
    "ebm = pickle.load(open('./model_pickles/lending-binary.pkl', 'rb'))"
   ]
  },
  {
   "cell_type": "code",
   "execution_count": 5,
   "metadata": {
    "colab": {
     "base_uri": "https://localhost:8080/"
    },
    "id": "6qRN7SBS7-oZ",
    "outputId": "3c7afed2-8bb1-42be-f819-3387a96f2aec"
   },
   "outputs": [
    {
     "name": "stdout",
     "output_type": "stream",
     "text": [
      "Counter({1: 622, 0: 378})\n",
      "\n",
      "accuracy: 0.6500 \n",
      "auc: 0.6729 \n",
      "recall:0.6722 \n",
      "precision: 0.8537 specificity: 0.5667 \n",
      "f1: 0.7521\n",
      "balanced accuracy: 0.6194\n",
      "\n",
      "confusion matrix:\n",
      " [[119  91]\n",
      " [259 531]]\n"
     ]
    }
   ],
   "source": [
    "# Evaluate our model\n",
    "\n",
    "y_pred = ebm.predict(x_test)\n",
    "y_pred_prob = ebm.predict_proba(x_test)[:, 1]\n",
    "\n",
    "print(Counter(y_pred))\n",
    "print()\n",
    "\n",
    "accuracy = metrics.accuracy_score(y_test, y_pred)\n",
    "auc = metrics.roc_auc_score(y_test, y_pred_prob)\n",
    "f1 = metrics.f1_score(y_test, y_pred)\n",
    "recall = metrics.recall_score(y_test, y_pred)\n",
    "precision = metrics.precision_score(y_test, y_pred)\n",
    "balanced_accuracy = metrics.balanced_accuracy_score(y_test, y_pred)\n",
    "\n",
    "confusion_matrix = metrics.confusion_matrix(y_test, y_pred)\n",
    "\n",
    "tn = confusion_matrix[0, 0]\n",
    "fn = confusion_matrix[1, 0]\n",
    "fp = confusion_matrix[0, 1]\n",
    "tp = confusion_matrix[1, 1]\n",
    "specificity = tn / (tn + fp)\n",
    "\n",
    "temp = ('accuracy: {:.4f} \\nauc: {:.4f} \\nrecall:{:.4f} \\nprecision: {:.4f} '+\n",
    "    'specificity: {:.4f} \\nf1: {:.4f}\\nbalanced accuracy: {:.4f}')\n",
    "print(temp.format(accuracy, auc, recall, precision, specificity, f1, balanced_accuracy))\n",
    "print()\n",
    "\n",
    "print('confusion matrix:\\n', confusion_matrix)"
   ]
  },
  {
   "cell_type": "code",
   "execution_count": 6,
   "metadata": {
    "colab": {
     "base_uri": "https://localhost:8080/",
     "height": 309
    },
    "id": "JWuIT4rD8Caq",
    "outputId": "a24c4dee-37f2-48bc-8e40-d842c034d025"
   },
   "outputs": [
    {
     "name": "stdout",
     "output_type": "stream",
     "text": [
      "(378, 19)\n"
     ]
    },
    {
     "data": {
      "text/html": [
       "<div>\n",
       "<style scoped>\n",
       "    .dataframe tbody tr th:only-of-type {\n",
       "        vertical-align: middle;\n",
       "    }\n",
       "\n",
       "    .dataframe tbody tr th {\n",
       "        vertical-align: top;\n",
       "    }\n",
       "\n",
       "    .dataframe thead th {\n",
       "        text-align: right;\n",
       "    }\n",
       "</style>\n",
       "<table border=\"1\" class=\"dataframe\">\n",
       "  <thead>\n",
       "    <tr style=\"text-align: right;\">\n",
       "      <th></th>\n",
       "      <th>loan_amnt</th>\n",
       "      <th>term</th>\n",
       "      <th>emp_length</th>\n",
       "      <th>home_ownership</th>\n",
       "      <th>annual_inc</th>\n",
       "      <th>verification_status</th>\n",
       "      <th>purpose</th>\n",
       "      <th>dti</th>\n",
       "      <th>earliest_cr_line</th>\n",
       "      <th>open_acc</th>\n",
       "      <th>pub_rec</th>\n",
       "      <th>revol_bal</th>\n",
       "      <th>revol_util</th>\n",
       "      <th>total_acc</th>\n",
       "      <th>application_type</th>\n",
       "      <th>mort_acc</th>\n",
       "      <th>pub_rec_bankruptcies</th>\n",
       "      <th>fico_score</th>\n",
       "      <th>prediction</th>\n",
       "    </tr>\n",
       "  </thead>\n",
       "  <tbody>\n",
       "    <tr>\n",
       "      <th>0</th>\n",
       "      <td>10000.0</td>\n",
       "      <td>36 months</td>\n",
       "      <td>&lt; 1 year</td>\n",
       "      <td>OWN</td>\n",
       "      <td>4.531478917042255</td>\n",
       "      <td>Source Verified</td>\n",
       "      <td>credit_card</td>\n",
       "      <td>31.66</td>\n",
       "      <td>2008.0</td>\n",
       "      <td>7.0</td>\n",
       "      <td>0</td>\n",
       "      <td>3.760422483423212</td>\n",
       "      <td>51.0</td>\n",
       "      <td>12.0</td>\n",
       "      <td>Individual</td>\n",
       "      <td>0</td>\n",
       "      <td>0</td>\n",
       "      <td>677.0</td>\n",
       "      <td>0</td>\n",
       "    </tr>\n",
       "    <tr>\n",
       "      <th>1</th>\n",
       "      <td>10000.0</td>\n",
       "      <td>60 months</td>\n",
       "      <td>1 year</td>\n",
       "      <td>RENT</td>\n",
       "      <td>4.643452676486188</td>\n",
       "      <td>Not Verified</td>\n",
       "      <td>debt_consolidation</td>\n",
       "      <td>4.34</td>\n",
       "      <td>2014.0</td>\n",
       "      <td>7.0</td>\n",
       "      <td>0</td>\n",
       "      <td>3.671358003443492</td>\n",
       "      <td>26.7</td>\n",
       "      <td>7.0</td>\n",
       "      <td>Individual</td>\n",
       "      <td>0</td>\n",
       "      <td>0</td>\n",
       "      <td>662.0</td>\n",
       "      <td>0</td>\n",
       "    </tr>\n",
       "    <tr>\n",
       "      <th>2</th>\n",
       "      <td>11000.0</td>\n",
       "      <td>36 months</td>\n",
       "      <td>8 years</td>\n",
       "      <td>MORTGAGE</td>\n",
       "      <td>4.556302500767287</td>\n",
       "      <td>Source Verified</td>\n",
       "      <td>major_purchase</td>\n",
       "      <td>13.4</td>\n",
       "      <td>2011.0</td>\n",
       "      <td>12.0</td>\n",
       "      <td>1</td>\n",
       "      <td>3.8899736384039962</td>\n",
       "      <td>44.9</td>\n",
       "      <td>15.0</td>\n",
       "      <td>Individual</td>\n",
       "      <td>0</td>\n",
       "      <td>1</td>\n",
       "      <td>677.0</td>\n",
       "      <td>0</td>\n",
       "    </tr>\n",
       "    <tr>\n",
       "      <th>3</th>\n",
       "      <td>15400.0</td>\n",
       "      <td>60 months</td>\n",
       "      <td>3 years</td>\n",
       "      <td>RENT</td>\n",
       "      <td>4.763427993562937</td>\n",
       "      <td>Verified</td>\n",
       "      <td>debt_consolidation</td>\n",
       "      <td>27.18</td>\n",
       "      <td>2005.0</td>\n",
       "      <td>9.0</td>\n",
       "      <td>0</td>\n",
       "      <td>3.940217555599735</td>\n",
       "      <td>68.1</td>\n",
       "      <td>28.0</td>\n",
       "      <td>Individual</td>\n",
       "      <td>0</td>\n",
       "      <td>0</td>\n",
       "      <td>682.0</td>\n",
       "      <td>0</td>\n",
       "    </tr>\n",
       "    <tr>\n",
       "      <th>4</th>\n",
       "      <td>10725.0</td>\n",
       "      <td>60 months</td>\n",
       "      <td>4 years</td>\n",
       "      <td>RENT</td>\n",
       "      <td>4.698970004336019</td>\n",
       "      <td>Source Verified</td>\n",
       "      <td>house</td>\n",
       "      <td>27.63</td>\n",
       "      <td>2004.0</td>\n",
       "      <td>9.0</td>\n",
       "      <td>0</td>\n",
       "      <td>3.688864568054792</td>\n",
       "      <td>20.5</td>\n",
       "      <td>19.0</td>\n",
       "      <td>Individual</td>\n",
       "      <td>0</td>\n",
       "      <td>0</td>\n",
       "      <td>772.0</td>\n",
       "      <td>0</td>\n",
       "    </tr>\n",
       "  </tbody>\n",
       "</table>\n",
       "</div>"
      ],
      "text/plain": [
       "  loan_amnt       term emp_length home_ownership         annual_inc  \\\n",
       "0   10000.0  36 months   < 1 year            OWN  4.531478917042255   \n",
       "1   10000.0  60 months     1 year           RENT  4.643452676486188   \n",
       "2   11000.0  36 months    8 years       MORTGAGE  4.556302500767287   \n",
       "3   15400.0  60 months    3 years           RENT  4.763427993562937   \n",
       "4   10725.0  60 months    4 years           RENT  4.698970004336019   \n",
       "\n",
       "  verification_status             purpose    dti earliest_cr_line open_acc  \\\n",
       "0     Source Verified         credit_card  31.66           2008.0      7.0   \n",
       "1        Not Verified  debt_consolidation   4.34           2014.0      7.0   \n",
       "2     Source Verified      major_purchase   13.4           2011.0     12.0   \n",
       "3            Verified  debt_consolidation  27.18           2005.0      9.0   \n",
       "4     Source Verified               house  27.63           2004.0      9.0   \n",
       "\n",
       "  pub_rec           revol_bal revol_util total_acc application_type mort_acc  \\\n",
       "0       0   3.760422483423212       51.0      12.0       Individual        0   \n",
       "1       0   3.671358003443492       26.7       7.0       Individual        0   \n",
       "2       1  3.8899736384039962       44.9      15.0       Individual        0   \n",
       "3       0   3.940217555599735       68.1      28.0       Individual        0   \n",
       "4       0   3.688864568054792       20.5      19.0       Individual        0   \n",
       "\n",
       "  pub_rec_bankruptcies fico_score prediction  \n",
       "0                    0      677.0          0  \n",
       "1                    0      662.0          0  \n",
       "2                    1      677.0          0  \n",
       "3                    0      682.0          0  \n",
       "4                    0      772.0          0  "
      ]
     },
     "execution_count": 6,
     "metadata": {},
     "output_type": "execute_result"
    }
   ],
   "source": [
    "# Find an interesting data point\n",
    "# We can focus on test cases where our model rejcets the application (y_hat = 0)\n",
    "reject_index = y_pred == 0\n",
    "x_reject = x_test[reject_index, :]\n",
    "y_pred_reject = y_pred[reject_index]\n",
    "\n",
    "explain_df = pd.DataFrame(x_reject)\n",
    "explain_df.columns = feature_names\n",
    "\n",
    "reject_df = pd.DataFrame(np.hstack((x_reject, y_pred_reject.reshape(-1, 1))))\n",
    "reject_df.columns = feature_names + ['prediction']\n",
    "print(reject_df.shape)\n",
    "reject_df.head()"
   ]
  },
  {
   "cell_type": "code",
   "execution_count": 7,
   "metadata": {},
   "outputs": [],
   "source": [
    "def evaluate_cf(x1, x2, feature_names, cont_mads):\n",
    "    cur_distance = 0\n",
    "    feature_weight = 1 / len(feature_names)\n",
    "    changed_feature = 0\n",
    "\n",
    "    for i in range(len(feature_names)):\n",
    "        cur_name = feature_names[i]\n",
    "\n",
    "        # If the current feature is continuous\n",
    "        if cur_name in cont_mads:\n",
    "            cur_distance += (\n",
    "                feature_weight * abs(float(x2[i]) - float(x1[i])) / cont_mads[cur_name]\n",
    "            )\n",
    "        else:\n",
    "            cur_distance += 1 if x1[i] != x2[i] else 0\n",
    "\n",
    "        if x1[i] != x2[i]:\n",
    "            changed_feature += 1\n",
    "\n",
    "    return cur_distance, changed_feature\n"
   ]
  },
  {
   "cell_type": "markdown",
   "metadata": {
    "id": "mn-vGLMdFtuM"
   },
   "source": [
    "### 1.1. GAM Coach"
   ]
  },
  {
   "cell_type": "code",
   "execution_count": 8,
   "metadata": {
    "colab": {
     "base_uri": "https://localhost:8080/"
    },
    "id": "q1aMWvOWJ0k8",
    "outputId": "55e61872-e1eb-4488-f947-de01d31046b6"
   },
   "outputs": [],
   "source": [
    "features_to_vary = feature_names\n",
    "\n",
    "# Generate counterfactual (CF) explanations\n",
    "my_coach = coach.GAMCoach(ebm, x_train, adjust_cat_distance=False)"
   ]
  },
  {
   "cell_type": "code",
   "execution_count": 38,
   "metadata": {},
   "outputs": [
    {
     "name": "stderr",
     "output_type": "stream",
     "text": [
      "100%|██████████| 378/378 [17:43<00:00,  2.81s/it]\n"
     ]
    }
   ],
   "source": [
    "cfs = []\n",
    "for i in tqdm(range(x_reject.shape[0])):\n",
    "# for i in tqdm(range(50)):\n",
    "    try:\n",
    "        cf = my_coach.generate_cfs(\n",
    "            x_reject[i, :],\n",
    "            total_cfs=1,\n",
    "            verbose=0,\n",
    "            categorical_weight=1\n",
    "            # Some continuous features need to have integer values in practice\n",
    "            # continuous_integer_features=[\"open_acc\", \"total_acc\", \"mort_acc\", \"fico_score\"],\n",
    "        )\n",
    "\n",
    "        cfs.append([x_reject[i, :], cf.to_df().iloc[0, :]])\n",
    "    except:\n",
    "        cfs.append(None)"
   ]
  },
  {
   "cell_type": "code",
   "execution_count": 39,
   "metadata": {},
   "outputs": [],
   "source": [
    "distances, feature_nums, failed_indexes = [], [], []\n",
    "\n",
    "for i in range(len(cfs)):\n",
    "    if cfs[i] is None:\n",
    "        failed_indexes.append(i)\n",
    "        continue\n",
    "\n",
    "    x1 = cfs[i][0]\n",
    "    x2 = cfs[i][1]\n",
    "\n",
    "    cur_distance, changed_feature = evaluate_cf(x1, x2, feature_names, my_coach.cont_mads)\n",
    "    \n",
    "    distances.append(cur_distance)\n",
    "    feature_nums.append(changed_feature)\n"
   ]
  },
  {
   "cell_type": "code",
   "execution_count": 40,
   "metadata": {},
   "outputs": [
    {
     "name": "stdout",
     "output_type": "stream",
     "text": [
      "coach \n",
      "distance:  0.18355070488806458 \n",
      "num:  2.2222222222222223 \n",
      "fails:  0\n"
     ]
    }
   ],
   "source": [
    "print(\n",
    "    \"coach\",\n",
    "    \"\\ndistance: \",\n",
    "    np.mean(distances),\n",
    "    \"\\nnum: \",\n",
    "    np.mean(feature_nums),\n",
    "    \"\\nfails: \",\n",
    "    len(failed_indexes),\n",
    ")\n"
   ]
  },
  {
   "cell_type": "code",
   "execution_count": 41,
   "metadata": {},
   "outputs": [
    {
     "data": {
      "image/png": "[encoded data removed]",
      "text/plain": [
       "<Figure size 432x288 with 1 Axes>"
      ]
     },
     "metadata": {
      "needs_background": "light"
     },
     "output_type": "display_data"
    }
   ],
   "source": [
    "plt.hist(distances, bins=50)\n",
    "plt.show()"
   ]
  },
  {
   "cell_type": "markdown",
   "metadata": {},
   "source": [
    "### 1.2. Genetic Algorithm"
   ]
  },
  {
   "cell_type": "code",
   "execution_count": 10,
   "metadata": {},
   "outputs": [],
   "source": [
    "dice_df = pd.DataFrame(x_train)\n",
    "dice_df.columns = feature_names\n",
    "dice_df['status'] = y_train\n",
    "\n",
    "feature_names_cont = ['loan_amnt', 'annual_inc', 'dti',\n",
    "                     'earliest_cr_line', 'open_acc', 'revol_bal', 'revol_util',\n",
    "                     'total_acc', 'fico_score']\n",
    "for c in feature_names_cont:\n",
    "    dice_df[c] = dice_df[c].astype(float)\n",
    "\n",
    "dice_data = dice_ml.Data(\n",
    "    dataframe=dice_df,\n",
    "    continuous_features=feature_names_cont,\n",
    "    outcome_name='status'\n",
    ")\n",
    "\n",
    "dice_model = dice_ml.Model(model=ebm, backend='sklearn')"
   ]
  },
  {
   "cell_type": "code",
   "execution_count": 11,
   "metadata": {},
   "outputs": [
    {
     "name": "stderr",
     "output_type": "stream",
     "text": [
      "100%|██████████| 378/378 [01:43<00:00,  3.65it/s]\n"
     ]
    }
   ],
   "source": [
    "exp = dice_ml.Dice(dice_data, dice_model, method='genetic')\n",
    "\n",
    "dice_rejected_df = explain_df.copy()\n",
    "for c in feature_names_cont:\n",
    "    dice_rejected_df[c] = dice_rejected_df[c].astype(float)\n",
    "\n",
    "explanation_generic = exp.generate_counterfactuals(\n",
    "    dice_rejected_df,\n",
    "    total_CFs=1,\n",
    "    features_to_vary=features_to_vary,\n",
    "    # posthoc_sparsity_param=0.2,\n",
    "    verbose=False,\n",
    "    desired_class=\"opposite\")"
   ]
  },
  {
   "cell_type": "code",
   "execution_count": 14,
   "metadata": {},
   "outputs": [],
   "source": [
    "g_distances, g_feature_nums, g_failed_indexes = [], [], []\n",
    "\n",
    "for i in range(len(explanation_generic.cf_examples_list)):\n",
    "    if explanation_generic.cf_examples_list[i].final_cfs_df is None:\n",
    "        g_failed_indexes.append(i)\n",
    "        continue\n",
    "\n",
    "    x1 = dice_rejected_df.iloc[i, :]\n",
    "    x2 = explanation_generic.cf_examples_list[i].final_cfs_df.iloc[0, :]\n",
    "\n",
    "    cur_distance, changed_feature = evaluate_cf(x1, x2, feature_names, my_coach.cont_mads)\n",
    "    \n",
    "    g_distances.append(cur_distance)\n",
    "    g_feature_nums.append(changed_feature)\n"
   ]
  },
  {
   "cell_type": "code",
   "execution_count": 15,
   "metadata": {},
   "outputs": [
    {
     "name": "stdout",
     "output_type": "stream",
     "text": [
      "generic \n",
      "distance:  3.1950324578332685 \n",
      "num:  10.251989389920425 \n",
      "fails:  1\n"
     ]
    }
   ],
   "source": [
    "print(\n",
    "    \"generic\",\n",
    "    \"\\ndistance: \",\n",
    "    np.mean(g_distances),\n",
    "    \"\\nnum: \",\n",
    "    np.mean(g_feature_nums),\n",
    "    \"\\nfails: \",\n",
    "    len(g_failed_indexes),\n",
    ")\n"
   ]
  },
  {
   "cell_type": "markdown",
   "metadata": {},
   "source": [
    "### KD Tree"
   ]
  },
  {
   "cell_type": "code",
   "execution_count": 11,
   "metadata": {},
   "outputs": [
    {
     "name": "stderr",
     "output_type": "stream",
     "text": [
      "  6%|▌         | 22/378 [02:46<44:58,  7.58s/it]\n"
     ]
    },
    {
     "ename": "KeyboardInterrupt",
     "evalue": "",
     "output_type": "error",
     "traceback": [
      "\u001b[0;31m---------------------------------------------------------------------------\u001b[0m",
      "\u001b[0;31mKeyboardInterrupt\u001b[0m                         Traceback (most recent call last)",
      "\u001b[0;32m<ipython-input-11-6222f7d897c8>\u001b[0m in \u001b[0;36m<module>\u001b[0;34m\u001b[0m\n\u001b[1;32m     11\u001b[0m     \u001b[0;31m# posthoc_sparsity_param=0.2,\u001b[0m\u001b[0;34m\u001b[0m\u001b[0;34m\u001b[0m\u001b[0;34m\u001b[0m\u001b[0m\n\u001b[1;32m     12\u001b[0m     \u001b[0mverbose\u001b[0m\u001b[0;34m=\u001b[0m\u001b[0;32mFalse\u001b[0m\u001b[0;34m,\u001b[0m\u001b[0;34m\u001b[0m\u001b[0;34m\u001b[0m\u001b[0m\n\u001b[0;32m---> 13\u001b[0;31m     desired_class=\"opposite\")\n\u001b[0m",
      "\u001b[0;32m~/miniconda3/envs/gam/lib/python3.7/site-packages/dice_ml/explainer_interfaces/explainer_base.py\u001b[0m in \u001b[0;36mgenerate_counterfactuals\u001b[0;34m(self, query_instances, total_CFs, desired_class, desired_range, permitted_range, features_to_vary, stopping_threshold, posthoc_sparsity_param, posthoc_sparsity_algorithm, verbose, **kwargs)\u001b[0m\n\u001b[1;32m    100\u001b[0m                 \u001b[0mposthoc_sparsity_algorithm\u001b[0m\u001b[0;34m=\u001b[0m\u001b[0mposthoc_sparsity_algorithm\u001b[0m\u001b[0;34m,\u001b[0m\u001b[0;34m\u001b[0m\u001b[0;34m\u001b[0m\u001b[0m\n\u001b[1;32m    101\u001b[0m                 \u001b[0mverbose\u001b[0m\u001b[0;34m=\u001b[0m\u001b[0mverbose\u001b[0m\u001b[0;34m,\u001b[0m\u001b[0;34m\u001b[0m\u001b[0;34m\u001b[0m\u001b[0m\n\u001b[0;32m--> 102\u001b[0;31m                 **kwargs)\n\u001b[0m\u001b[1;32m    103\u001b[0m             \u001b[0mcf_examples_arr\u001b[0m\u001b[0;34m.\u001b[0m\u001b[0mappend\u001b[0m\u001b[0;34m(\u001b[0m\u001b[0mres\u001b[0m\u001b[0;34m)\u001b[0m\u001b[0;34m\u001b[0m\u001b[0;34m\u001b[0m\u001b[0m\n\u001b[1;32m    104\u001b[0m         \u001b[0;32mreturn\u001b[0m \u001b[0mCounterfactualExplanations\u001b[0m\u001b[0;34m(\u001b[0m\u001b[0mcf_examples_list\u001b[0m\u001b[0;34m=\u001b[0m\u001b[0mcf_examples_arr\u001b[0m\u001b[0;34m)\u001b[0m\u001b[0;34m\u001b[0m\u001b[0;34m\u001b[0m\u001b[0m\n",
      "\u001b[0;32m~/miniconda3/envs/gam/lib/python3.7/site-packages/dice_ml/explainer_interfaces/dice_KD.py\u001b[0m in \u001b[0;36m_generate_counterfactuals\u001b[0;34m(self, query_instance, total_CFs, desired_range, desired_class, features_to_vary, permitted_range, sparsity_weight, feature_weights, stopping_threshold, posthoc_sparsity_param, posthoc_sparsity_algorithm, verbose)\u001b[0m\n\u001b[1;32m    116\u001b[0m                                                               \u001b[0mstopping_threshold\u001b[0m\u001b[0;34m,\u001b[0m\u001b[0;34m\u001b[0m\u001b[0;34m\u001b[0m\u001b[0m\n\u001b[1;32m    117\u001b[0m                                                               \u001b[0mposthoc_sparsity_param\u001b[0m\u001b[0;34m,\u001b[0m\u001b[0;34m\u001b[0m\u001b[0;34m\u001b[0m\u001b[0m\n\u001b[0;32m--> 118\u001b[0;31m                                                               posthoc_sparsity_algorithm, verbose)\n\u001b[0m\u001b[1;32m    119\u001b[0m         \u001b[0mself\u001b[0m\u001b[0;34m.\u001b[0m\u001b[0mcfs_preds\u001b[0m \u001b[0;34m=\u001b[0m \u001b[0mcfs_preds\u001b[0m\u001b[0;34m\u001b[0m\u001b[0;34m\u001b[0m\u001b[0m\n\u001b[1;32m    120\u001b[0m \u001b[0;34m\u001b[0m\u001b[0m\n",
      "\u001b[0;32m~/miniconda3/envs/gam/lib/python3.7/site-packages/dice_ml/explainer_interfaces/dice_KD.py\u001b[0m in \u001b[0;36mfind_counterfactuals\u001b[0;34m(self, data_df_copy, query_instance, query_instance_orig, desired_range, desired_class, total_CFs, features_to_vary, permitted_range, sparsity_weight, stopping_threshold, posthoc_sparsity_param, posthoc_sparsity_algorithm, verbose)\u001b[0m\n\u001b[1;32m    242\u001b[0m                 self.final_cfs_df_sparse = self.do_posthoc_sparsity_enhancement(self.final_cfs_df_sparse, query_instance,\n\u001b[1;32m    243\u001b[0m                                                                                 \u001b[0mposthoc_sparsity_param\u001b[0m\u001b[0;34m,\u001b[0m\u001b[0;34m\u001b[0m\u001b[0;34m\u001b[0m\u001b[0m\n\u001b[0;32m--> 244\u001b[0;31m                                                                                 posthoc_sparsity_algorithm)\n\u001b[0m\u001b[1;32m    245\u001b[0m             \u001b[0;32melse\u001b[0m\u001b[0;34m:\u001b[0m\u001b[0;34m\u001b[0m\u001b[0;34m\u001b[0m\u001b[0m\n\u001b[1;32m    246\u001b[0m                 \u001b[0mself\u001b[0m\u001b[0;34m.\u001b[0m\u001b[0mfinal_cfs_df_sparse\u001b[0m \u001b[0;34m=\u001b[0m \u001b[0;32mNone\u001b[0m\u001b[0;34m\u001b[0m\u001b[0;34m\u001b[0m\u001b[0m\n",
      "\u001b[0;32m~/miniconda3/envs/gam/lib/python3.7/site-packages/dice_ml/explainer_interfaces/explainer_base.py\u001b[0m in \u001b[0;36mdo_posthoc_sparsity_enhancement\u001b[0;34m(self, final_cfs_sparse, query_instance, posthoc_sparsity_param, posthoc_sparsity_algorithm)\u001b[0m\n\u001b[1;32m    422\u001b[0m                     \u001b[0;32mif\u001b[0m \u001b[0mposthoc_sparsity_algorithm\u001b[0m \u001b[0;34m==\u001b[0m \u001b[0;34m\"linear\"\u001b[0m\u001b[0;34m:\u001b[0m\u001b[0;34m\u001b[0m\u001b[0;34m\u001b[0m\u001b[0m\n\u001b[1;32m    423\u001b[0m                         final_cfs_sparse = self.do_linear_search(diff, decimal_prec, query_instance, cf_ix,\n\u001b[0;32m--> 424\u001b[0;31m                                                                  feature, final_cfs_sparse, current_pred)\n\u001b[0m\u001b[1;32m    425\u001b[0m \u001b[0;34m\u001b[0m\u001b[0m\n\u001b[1;32m    426\u001b[0m                     \u001b[0;32melif\u001b[0m \u001b[0mposthoc_sparsity_algorithm\u001b[0m \u001b[0;34m==\u001b[0m \u001b[0;34m\"binary\"\u001b[0m\u001b[0;34m:\u001b[0m\u001b[0;34m\u001b[0m\u001b[0;34m\u001b[0m\u001b[0m\n",
      "\u001b[0;32m~/miniconda3/envs/gam/lib/python3.7/site-packages/dice_ml/explainer_interfaces/explainer_base.py\u001b[0m in \u001b[0;36mdo_linear_search\u001b[0;34m(self, diff, decimal_prec, query_instance, cf_ix, feature, final_cfs_sparse, current_pred_orig)\u001b[0m\n\u001b[1;32m    446\u001b[0m                 \u001b[0mold_val\u001b[0m \u001b[0;34m=\u001b[0m \u001b[0mint\u001b[0m\u001b[0;34m(\u001b[0m\u001b[0mfinal_cfs_sparse\u001b[0m\u001b[0;34m.\u001b[0m\u001b[0mat\u001b[0m\u001b[0;34m[\u001b[0m\u001b[0mcf_ix\u001b[0m\u001b[0;34m,\u001b[0m \u001b[0mfeature\u001b[0m\u001b[0;34m]\u001b[0m\u001b[0;34m)\u001b[0m\u001b[0;34m\u001b[0m\u001b[0;34m\u001b[0m\u001b[0m\n\u001b[1;32m    447\u001b[0m                 \u001b[0mfinal_cfs_sparse\u001b[0m\u001b[0;34m.\u001b[0m\u001b[0mat\u001b[0m\u001b[0;34m[\u001b[0m\u001b[0mcf_ix\u001b[0m\u001b[0;34m,\u001b[0m \u001b[0mfeature\u001b[0m\u001b[0;34m]\u001b[0m \u001b[0;34m+=\u001b[0m \u001b[0mnp\u001b[0m\u001b[0;34m.\u001b[0m\u001b[0msign\u001b[0m\u001b[0;34m(\u001b[0m\u001b[0mdiff\u001b[0m\u001b[0;34m)\u001b[0m\u001b[0;34m*\u001b[0m\u001b[0mchange\u001b[0m\u001b[0;34m\u001b[0m\u001b[0;34m\u001b[0m\u001b[0m\n\u001b[0;32m--> 448\u001b[0;31m                 \u001b[0mcurrent_pred\u001b[0m \u001b[0;34m=\u001b[0m \u001b[0mself\u001b[0m\u001b[0;34m.\u001b[0m\u001b[0mpredict_fn_for_sparsity\u001b[0m\u001b[0;34m(\u001b[0m\u001b[0mfinal_cfs_sparse\u001b[0m\u001b[0;34m.\u001b[0m\u001b[0mloc\u001b[0m\u001b[0;34m[\u001b[0m\u001b[0;34m[\u001b[0m\u001b[0mcf_ix\u001b[0m\u001b[0;34m]\u001b[0m\u001b[0;34m]\u001b[0m\u001b[0;34m[\u001b[0m\u001b[0mself\u001b[0m\u001b[0;34m.\u001b[0m\u001b[0mdata_interface\u001b[0m\u001b[0;34m.\u001b[0m\u001b[0mfeature_names\u001b[0m\u001b[0;34m]\u001b[0m\u001b[0;34m)\u001b[0m\u001b[0;34m\u001b[0m\u001b[0;34m\u001b[0m\u001b[0m\n\u001b[0m\u001b[1;32m    449\u001b[0m                 \u001b[0mold_diff\u001b[0m \u001b[0;34m=\u001b[0m \u001b[0mdiff\u001b[0m\u001b[0;34m\u001b[0m\u001b[0;34m\u001b[0m\u001b[0m\n\u001b[1;32m    450\u001b[0m \u001b[0;34m\u001b[0m\u001b[0m\n",
      "\u001b[0;32m~/miniconda3/envs/gam/lib/python3.7/site-packages/pandas/core/frame.py\u001b[0m in \u001b[0;36m__getitem__\u001b[0;34m(self, key)\u001b[0m\n\u001b[1;32m   3034\u001b[0m             \u001b[0mindexer\u001b[0m \u001b[0;34m=\u001b[0m \u001b[0mnp\u001b[0m\u001b[0;34m.\u001b[0m\u001b[0mwhere\u001b[0m\u001b[0;34m(\u001b[0m\u001b[0mindexer\u001b[0m\u001b[0;34m)\u001b[0m\u001b[0;34m[\u001b[0m\u001b[0;36m0\u001b[0m\u001b[0;34m]\u001b[0m\u001b[0;34m\u001b[0m\u001b[0;34m\u001b[0m\u001b[0m\n\u001b[1;32m   3035\u001b[0m \u001b[0;34m\u001b[0m\u001b[0m\n\u001b[0;32m-> 3036\u001b[0;31m         \u001b[0mdata\u001b[0m \u001b[0;34m=\u001b[0m \u001b[0mself\u001b[0m\u001b[0;34m.\u001b[0m\u001b[0m_take_with_is_copy\u001b[0m\u001b[0;34m(\u001b[0m\u001b[0mindexer\u001b[0m\u001b[0;34m,\u001b[0m \u001b[0maxis\u001b[0m\u001b[0;34m=\u001b[0m\u001b[0;36m1\u001b[0m\u001b[0;34m)\u001b[0m\u001b[0;34m\u001b[0m\u001b[0;34m\u001b[0m\u001b[0m\n\u001b[0m\u001b[1;32m   3037\u001b[0m \u001b[0;34m\u001b[0m\u001b[0m\n\u001b[1;32m   3038\u001b[0m         \u001b[0;32mif\u001b[0m \u001b[0mis_single_key\u001b[0m\u001b[0;34m:\u001b[0m\u001b[0;34m\u001b[0m\u001b[0;34m\u001b[0m\u001b[0m\n",
      "\u001b[0;32m~/miniconda3/envs/gam/lib/python3.7/site-packages/pandas/core/generic.py\u001b[0m in \u001b[0;36m_take_with_is_copy\u001b[0;34m(self, indices, axis)\u001b[0m\n\u001b[1;32m   3598\u001b[0m         \u001b[0mSee\u001b[0m \u001b[0mthe\u001b[0m \u001b[0mdocstring\u001b[0m \u001b[0mof\u001b[0m\u001b[0;31m \u001b[0m\u001b[0;31m`\u001b[0m\u001b[0mtake\u001b[0m\u001b[0;31m`\u001b[0m \u001b[0;32mfor\u001b[0m \u001b[0mfull\u001b[0m \u001b[0mexplanation\u001b[0m \u001b[0mof\u001b[0m \u001b[0mthe\u001b[0m \u001b[0mparameters\u001b[0m\u001b[0;34m.\u001b[0m\u001b[0;34m\u001b[0m\u001b[0;34m\u001b[0m\u001b[0m\n\u001b[1;32m   3599\u001b[0m         \"\"\"\n\u001b[0;32m-> 3600\u001b[0;31m         \u001b[0mresult\u001b[0m \u001b[0;34m=\u001b[0m \u001b[0mself\u001b[0m\u001b[0;34m.\u001b[0m\u001b[0mtake\u001b[0m\u001b[0;34m(\u001b[0m\u001b[0mindices\u001b[0m\u001b[0;34m=\u001b[0m\u001b[0mindices\u001b[0m\u001b[0;34m,\u001b[0m \u001b[0maxis\u001b[0m\u001b[0;34m=\u001b[0m\u001b[0maxis\u001b[0m\u001b[0;34m)\u001b[0m\u001b[0;34m\u001b[0m\u001b[0;34m\u001b[0m\u001b[0m\n\u001b[0m\u001b[1;32m   3601\u001b[0m         \u001b[0;31m# Maybe set copy if we didn't actually change the index.\u001b[0m\u001b[0;34m\u001b[0m\u001b[0;34m\u001b[0m\u001b[0;34m\u001b[0m\u001b[0m\n\u001b[1;32m   3602\u001b[0m         \u001b[0;32mif\u001b[0m \u001b[0;32mnot\u001b[0m \u001b[0mresult\u001b[0m\u001b[0;34m.\u001b[0m\u001b[0m_get_axis\u001b[0m\u001b[0;34m(\u001b[0m\u001b[0maxis\u001b[0m\u001b[0;34m)\u001b[0m\u001b[0;34m.\u001b[0m\u001b[0mequals\u001b[0m\u001b[0;34m(\u001b[0m\u001b[0mself\u001b[0m\u001b[0;34m.\u001b[0m\u001b[0m_get_axis\u001b[0m\u001b[0;34m(\u001b[0m\u001b[0maxis\u001b[0m\u001b[0;34m)\u001b[0m\u001b[0;34m)\u001b[0m\u001b[0;34m:\u001b[0m\u001b[0;34m\u001b[0m\u001b[0;34m\u001b[0m\u001b[0m\n",
      "\u001b[0;32m~/miniconda3/envs/gam/lib/python3.7/site-packages/pandas/core/generic.py\u001b[0m in \u001b[0;36mtake\u001b[0;34m(self, indices, axis, is_copy, **kwargs)\u001b[0m\n\u001b[1;32m   3587\u001b[0m             \u001b[0mindices\u001b[0m\u001b[0;34m,\u001b[0m \u001b[0maxis\u001b[0m\u001b[0;34m=\u001b[0m\u001b[0mself\u001b[0m\u001b[0;34m.\u001b[0m\u001b[0m_get_block_manager_axis\u001b[0m\u001b[0;34m(\u001b[0m\u001b[0maxis\u001b[0m\u001b[0;34m)\u001b[0m\u001b[0;34m,\u001b[0m \u001b[0mverify\u001b[0m\u001b[0;34m=\u001b[0m\u001b[0;32mTrue\u001b[0m\u001b[0;34m\u001b[0m\u001b[0;34m\u001b[0m\u001b[0m\n\u001b[1;32m   3588\u001b[0m         )\n\u001b[0;32m-> 3589\u001b[0;31m         \u001b[0;32mreturn\u001b[0m \u001b[0mself\u001b[0m\u001b[0;34m.\u001b[0m\u001b[0m_constructor\u001b[0m\u001b[0;34m(\u001b[0m\u001b[0mnew_data\u001b[0m\u001b[0;34m)\u001b[0m\u001b[0;34m.\u001b[0m\u001b[0m__finalize__\u001b[0m\u001b[0;34m(\u001b[0m\u001b[0mself\u001b[0m\u001b[0;34m,\u001b[0m \u001b[0mmethod\u001b[0m\u001b[0;34m=\u001b[0m\u001b[0;34m\"take\"\u001b[0m\u001b[0;34m)\u001b[0m\u001b[0;34m\u001b[0m\u001b[0;34m\u001b[0m\u001b[0m\n\u001b[0m\u001b[1;32m   3590\u001b[0m \u001b[0;34m\u001b[0m\u001b[0m\n\u001b[1;32m   3591\u001b[0m     \u001b[0;34m@\u001b[0m\u001b[0mfinal\u001b[0m\u001b[0;34m\u001b[0m\u001b[0;34m\u001b[0m\u001b[0m\n",
      "\u001b[0;32m~/miniconda3/envs/gam/lib/python3.7/site-packages/pandas/core/generic.py\u001b[0m in \u001b[0;36m__finalize__\u001b[0;34m(self, other, method, **kwargs)\u001b[0m\n\u001b[1;32m   5430\u001b[0m         \"\"\"\n\u001b[1;32m   5431\u001b[0m         \u001b[0;32mif\u001b[0m \u001b[0misinstance\u001b[0m\u001b[0;34m(\u001b[0m\u001b[0mother\u001b[0m\u001b[0;34m,\u001b[0m \u001b[0mNDFrame\u001b[0m\u001b[0;34m)\u001b[0m\u001b[0;34m:\u001b[0m\u001b[0;34m\u001b[0m\u001b[0;34m\u001b[0m\u001b[0m\n\u001b[0;32m-> 5432\u001b[0;31m             \u001b[0;32mfor\u001b[0m \u001b[0mname\u001b[0m \u001b[0;32min\u001b[0m \u001b[0mother\u001b[0m\u001b[0;34m.\u001b[0m\u001b[0mattrs\u001b[0m\u001b[0;34m:\u001b[0m\u001b[0;34m\u001b[0m\u001b[0;34m\u001b[0m\u001b[0m\n\u001b[0m\u001b[1;32m   5433\u001b[0m                 \u001b[0mself\u001b[0m\u001b[0;34m.\u001b[0m\u001b[0mattrs\u001b[0m\u001b[0;34m[\u001b[0m\u001b[0mname\u001b[0m\u001b[0;34m]\u001b[0m \u001b[0;34m=\u001b[0m \u001b[0mother\u001b[0m\u001b[0;34m.\u001b[0m\u001b[0mattrs\u001b[0m\u001b[0;34m[\u001b[0m\u001b[0mname\u001b[0m\u001b[0;34m]\u001b[0m\u001b[0;34m\u001b[0m\u001b[0;34m\u001b[0m\u001b[0m\n\u001b[1;32m   5434\u001b[0m \u001b[0;34m\u001b[0m\u001b[0m\n",
      "\u001b[0;32m~/miniconda3/envs/gam/lib/python3.7/site-packages/pandas/core/generic.py\u001b[0m in \u001b[0;36mattrs\u001b[0;34m(self)\u001b[0m\n\u001b[1;32m    238\u001b[0m         \u001b[0mDataFrame\u001b[0m\u001b[0;34m.\u001b[0m\u001b[0mflags\u001b[0m \u001b[0;34m:\u001b[0m \u001b[0mGlobal\u001b[0m \u001b[0mflags\u001b[0m \u001b[0mapplying\u001b[0m \u001b[0mto\u001b[0m \u001b[0mthis\u001b[0m \u001b[0mobject\u001b[0m\u001b[0;34m.\u001b[0m\u001b[0;34m\u001b[0m\u001b[0;34m\u001b[0m\u001b[0m\n\u001b[1;32m    239\u001b[0m         \"\"\"\n\u001b[0;32m--> 240\u001b[0;31m         \u001b[0;32mif\u001b[0m \u001b[0mself\u001b[0m\u001b[0;34m.\u001b[0m\u001b[0m_attrs\u001b[0m \u001b[0;32mis\u001b[0m \u001b[0;32mNone\u001b[0m\u001b[0;34m:\u001b[0m\u001b[0;34m\u001b[0m\u001b[0;34m\u001b[0m\u001b[0m\n\u001b[0m\u001b[1;32m    241\u001b[0m             \u001b[0mself\u001b[0m\u001b[0;34m.\u001b[0m\u001b[0m_attrs\u001b[0m \u001b[0;34m=\u001b[0m \u001b[0;34m{\u001b[0m\u001b[0;34m}\u001b[0m\u001b[0;34m\u001b[0m\u001b[0;34m\u001b[0m\u001b[0m\n\u001b[1;32m    242\u001b[0m         \u001b[0;32mreturn\u001b[0m \u001b[0mself\u001b[0m\u001b[0;34m.\u001b[0m\u001b[0m_attrs\u001b[0m\u001b[0;34m\u001b[0m\u001b[0;34m\u001b[0m\u001b[0m\n",
      "\u001b[0;31mKeyboardInterrupt\u001b[0m: "
     ]
    }
   ],
   "source": [
    "exp = dice_ml.Dice(dice_data, dice_model, method='kdtree')\n",
    "\n",
    "dice_rejected_df = explain_df.copy()\n",
    "for c in feature_names_cont:\n",
    "    dice_rejected_df[c] = dice_rejected_df[c].astype(float)\n",
    "\n",
    "explanation_tree = exp.generate_counterfactuals(\n",
    "    dice_rejected_df,\n",
    "    total_CFs=1,\n",
    "    features_to_vary=features_to_vary,\n",
    "    # posthoc_sparsity_param=0.2,\n",
    "    verbose=False,\n",
    "    desired_class=\"opposite\")"
   ]
  },
  {
   "cell_type": "code",
   "execution_count": 235,
   "metadata": {},
   "outputs": [],
   "source": [
    "k_distances, k_feature_nums, k_failed_indexes = [], [], []\n",
    "\n",
    "for i in range(len(explanation_tree.cf_examples_list)):\n",
    "    if explanation_tree.cf_examples_list[i].final_cfs_df is None:\n",
    "        k_failed_indexes.append(i)\n",
    "        continue\n",
    "\n",
    "    if explanation_tree.cf_examples_list[i].final_cfs_df.shape == (0, 0):\n",
    "        k_failed_indexes.append(i)\n",
    "        continue\n",
    "\n",
    "    x1 = dice_rejected_df.iloc[i, :]\n",
    "    x2 = explanation_tree.cf_examples_list[i].final_cfs_df.iloc[0, :]\n",
    "\n",
    "    cur_distance, changed_feature = evaluate_cf(x1, x2, feature_names, my_coach.cont_mads)\n",
    "    \n",
    "    k_distances.append(cur_distance)\n",
    "    k_feature_nums.append(changed_feature)\n"
   ]
  },
  {
   "cell_type": "code",
   "execution_count": 236,
   "metadata": {},
   "outputs": [
    {
     "name": "stdout",
     "output_type": "stream",
     "text": [
      "tree \n",
      "distance:  3.537431334905131 \n",
      "num:  9.957446808510639 \n",
      "fails:  331\n"
     ]
    }
   ],
   "source": [
    "print(\n",
    "    \"tree\",\n",
    "    \"\\ndistance: \",\n",
    "    np.mean(k_distances),\n",
    "    \"\\nnum: \",\n",
    "    np.mean(k_feature_nums),\n",
    "    \"\\nfails: \",\n",
    "    len(k_failed_indexes),\n",
    ")\n"
   ]
  },
  {
   "cell_type": "markdown",
   "metadata": {},
   "source": [
    "### Random"
   ]
  },
  {
   "cell_type": "code",
   "execution_count": 161,
   "metadata": {},
   "outputs": [
    {
     "name": "stderr",
     "output_type": "stream",
     "text": [
      " 37%|███▋      | 139/378 [54:49<1:34:15, 23.66s/it] \n"
     ]
    },
    {
     "ename": "KeyboardInterrupt",
     "evalue": "",
     "output_type": "error",
     "traceback": [
      "\u001b[0;31m---------------------------------------------------------------------------\u001b[0m",
      "\u001b[0;31mKeyboardInterrupt\u001b[0m                         Traceback (most recent call last)",
      "\u001b[0;32m<ipython-input-161-e18af133fdad>\u001b[0m in \u001b[0;36m<module>\u001b[0;34m\u001b[0m\n\u001b[1;32m     11\u001b[0m     \u001b[0;31m# posthoc_sparsity_param=0.2,\u001b[0m\u001b[0;34m\u001b[0m\u001b[0;34m\u001b[0m\u001b[0;34m\u001b[0m\u001b[0m\n\u001b[1;32m     12\u001b[0m     \u001b[0mverbose\u001b[0m\u001b[0;34m=\u001b[0m\u001b[0;32mFalse\u001b[0m\u001b[0;34m,\u001b[0m\u001b[0;34m\u001b[0m\u001b[0;34m\u001b[0m\u001b[0m\n\u001b[0;32m---> 13\u001b[0;31m     desired_class=\"opposite\")\n\u001b[0m",
      "\u001b[0;32m~/miniconda3/envs/gam/lib/python3.7/site-packages/dice_ml/explainer_interfaces/explainer_base.py\u001b[0m in \u001b[0;36mgenerate_counterfactuals\u001b[0;34m(self, query_instances, total_CFs, desired_class, desired_range, permitted_range, features_to_vary, stopping_threshold, posthoc_sparsity_param, posthoc_sparsity_algorithm, verbose, **kwargs)\u001b[0m\n\u001b[1;32m    100\u001b[0m                 \u001b[0mposthoc_sparsity_algorithm\u001b[0m\u001b[0;34m=\u001b[0m\u001b[0mposthoc_sparsity_algorithm\u001b[0m\u001b[0;34m,\u001b[0m\u001b[0;34m\u001b[0m\u001b[0;34m\u001b[0m\u001b[0m\n\u001b[1;32m    101\u001b[0m                 \u001b[0mverbose\u001b[0m\u001b[0;34m=\u001b[0m\u001b[0mverbose\u001b[0m\u001b[0;34m,\u001b[0m\u001b[0;34m\u001b[0m\u001b[0;34m\u001b[0m\u001b[0m\n\u001b[0;32m--> 102\u001b[0;31m                 **kwargs)\n\u001b[0m\u001b[1;32m    103\u001b[0m             \u001b[0mcf_examples_arr\u001b[0m\u001b[0;34m.\u001b[0m\u001b[0mappend\u001b[0m\u001b[0;34m(\u001b[0m\u001b[0mres\u001b[0m\u001b[0;34m)\u001b[0m\u001b[0;34m\u001b[0m\u001b[0;34m\u001b[0m\u001b[0m\n\u001b[1;32m    104\u001b[0m         \u001b[0;32mreturn\u001b[0m \u001b[0mCounterfactualExplanations\u001b[0m\u001b[0;34m(\u001b[0m\u001b[0mcf_examples_list\u001b[0m\u001b[0;34m=\u001b[0m\u001b[0mcf_examples_arr\u001b[0m\u001b[0;34m)\u001b[0m\u001b[0;34m\u001b[0m\u001b[0;34m\u001b[0m\u001b[0m\n",
      "\u001b[0;32m~/miniconda3/envs/gam/lib/python3.7/site-packages/dice_ml/explainer_interfaces/dice_random.py\u001b[0m in \u001b[0;36m_generate_counterfactuals\u001b[0;34m(self, query_instance, total_CFs, desired_range, desired_class, permitted_range, features_to_vary, stopping_threshold, posthoc_sparsity_param, posthoc_sparsity_algorithm, sample_size, random_seed, verbose)\u001b[0m\n\u001b[1;32m    169\u001b[0m             \u001b[0mfinal_cfs_df_sparse\u001b[0m \u001b[0;34m=\u001b[0m \u001b[0mfinal_cfs_df\u001b[0m\u001b[0;34m.\u001b[0m\u001b[0mcopy\u001b[0m\u001b[0;34m(\u001b[0m\u001b[0;34m)\u001b[0m\u001b[0;34m\u001b[0m\u001b[0;34m\u001b[0m\u001b[0m\n\u001b[1;32m    170\u001b[0m             final_cfs_df_sparse = self.do_posthoc_sparsity_enhancement(\n\u001b[0;32m--> 171\u001b[0;31m                 final_cfs_df_sparse, test_instance_df, posthoc_sparsity_param, posthoc_sparsity_algorithm)\n\u001b[0m\u001b[1;32m    172\u001b[0m         \u001b[0;32melse\u001b[0m\u001b[0;34m:\u001b[0m\u001b[0;34m\u001b[0m\u001b[0;34m\u001b[0m\u001b[0m\n\u001b[1;32m    173\u001b[0m             \u001b[0mfinal_cfs_df_sparse\u001b[0m \u001b[0;34m=\u001b[0m \u001b[0;32mNone\u001b[0m\u001b[0;34m\u001b[0m\u001b[0;34m\u001b[0m\u001b[0m\n",
      "\u001b[0;32m~/miniconda3/envs/gam/lib/python3.7/site-packages/dice_ml/explainer_interfaces/explainer_base.py\u001b[0m in \u001b[0;36mdo_posthoc_sparsity_enhancement\u001b[0;34m(self, final_cfs_sparse, query_instance, posthoc_sparsity_param, posthoc_sparsity_algorithm)\u001b[0m\n\u001b[1;32m    422\u001b[0m                     \u001b[0;32mif\u001b[0m \u001b[0mposthoc_sparsity_algorithm\u001b[0m \u001b[0;34m==\u001b[0m \u001b[0;34m\"linear\"\u001b[0m\u001b[0;34m:\u001b[0m\u001b[0;34m\u001b[0m\u001b[0;34m\u001b[0m\u001b[0m\n\u001b[1;32m    423\u001b[0m                         final_cfs_sparse = self.do_linear_search(diff, decimal_prec, query_instance, cf_ix,\n\u001b[0;32m--> 424\u001b[0;31m                                                                  feature, final_cfs_sparse, current_pred)\n\u001b[0m\u001b[1;32m    425\u001b[0m \u001b[0;34m\u001b[0m\u001b[0m\n\u001b[1;32m    426\u001b[0m                     \u001b[0;32melif\u001b[0m \u001b[0mposthoc_sparsity_algorithm\u001b[0m \u001b[0;34m==\u001b[0m \u001b[0;34m\"binary\"\u001b[0m\u001b[0;34m:\u001b[0m\u001b[0;34m\u001b[0m\u001b[0;34m\u001b[0m\u001b[0m\n",
      "\u001b[0;32m~/miniconda3/envs/gam/lib/python3.7/site-packages/dice_ml/explainer_interfaces/explainer_base.py\u001b[0m in \u001b[0;36mdo_linear_search\u001b[0;34m(self, diff, decimal_prec, query_instance, cf_ix, feature, final_cfs_sparse, current_pred_orig)\u001b[0m\n\u001b[1;32m    446\u001b[0m                 \u001b[0mold_val\u001b[0m \u001b[0;34m=\u001b[0m \u001b[0mint\u001b[0m\u001b[0;34m(\u001b[0m\u001b[0mfinal_cfs_sparse\u001b[0m\u001b[0;34m.\u001b[0m\u001b[0mat\u001b[0m\u001b[0;34m[\u001b[0m\u001b[0mcf_ix\u001b[0m\u001b[0;34m,\u001b[0m \u001b[0mfeature\u001b[0m\u001b[0;34m]\u001b[0m\u001b[0;34m)\u001b[0m\u001b[0;34m\u001b[0m\u001b[0;34m\u001b[0m\u001b[0m\n\u001b[1;32m    447\u001b[0m                 \u001b[0mfinal_cfs_sparse\u001b[0m\u001b[0;34m.\u001b[0m\u001b[0mat\u001b[0m\u001b[0;34m[\u001b[0m\u001b[0mcf_ix\u001b[0m\u001b[0;34m,\u001b[0m \u001b[0mfeature\u001b[0m\u001b[0;34m]\u001b[0m \u001b[0;34m+=\u001b[0m \u001b[0mnp\u001b[0m\u001b[0;34m.\u001b[0m\u001b[0msign\u001b[0m\u001b[0;34m(\u001b[0m\u001b[0mdiff\u001b[0m\u001b[0;34m)\u001b[0m\u001b[0;34m*\u001b[0m\u001b[0mchange\u001b[0m\u001b[0;34m\u001b[0m\u001b[0;34m\u001b[0m\u001b[0m\n\u001b[0;32m--> 448\u001b[0;31m                 \u001b[0mcurrent_pred\u001b[0m \u001b[0;34m=\u001b[0m \u001b[0mself\u001b[0m\u001b[0;34m.\u001b[0m\u001b[0mpredict_fn_for_sparsity\u001b[0m\u001b[0;34m(\u001b[0m\u001b[0mfinal_cfs_sparse\u001b[0m\u001b[0;34m.\u001b[0m\u001b[0mloc\u001b[0m\u001b[0;34m[\u001b[0m\u001b[0;34m[\u001b[0m\u001b[0mcf_ix\u001b[0m\u001b[0;34m]\u001b[0m\u001b[0;34m]\u001b[0m\u001b[0;34m[\u001b[0m\u001b[0mself\u001b[0m\u001b[0;34m.\u001b[0m\u001b[0mdata_interface\u001b[0m\u001b[0;34m.\u001b[0m\u001b[0mfeature_names\u001b[0m\u001b[0;34m]\u001b[0m\u001b[0;34m)\u001b[0m\u001b[0;34m\u001b[0m\u001b[0;34m\u001b[0m\u001b[0m\n\u001b[0m\u001b[1;32m    449\u001b[0m                 \u001b[0mold_diff\u001b[0m \u001b[0;34m=\u001b[0m \u001b[0mdiff\u001b[0m\u001b[0;34m\u001b[0m\u001b[0;34m\u001b[0m\u001b[0m\n\u001b[1;32m    450\u001b[0m \u001b[0;34m\u001b[0m\u001b[0m\n",
      "\u001b[0;32m~/miniconda3/envs/gam/lib/python3.7/site-packages/dice_ml/explainer_interfaces/explainer_base.py\u001b[0m in \u001b[0;36mpredict_fn_for_sparsity\u001b[0;34m(self, input_instance)\u001b[0m\n\u001b[1;32m    377\u001b[0m     \u001b[0;32mdef\u001b[0m \u001b[0mpredict_fn_for_sparsity\u001b[0m\u001b[0;34m(\u001b[0m\u001b[0mself\u001b[0m\u001b[0;34m,\u001b[0m \u001b[0minput_instance\u001b[0m\u001b[0;34m)\u001b[0m\u001b[0;34m:\u001b[0m\u001b[0;34m\u001b[0m\u001b[0;34m\u001b[0m\u001b[0m\n\u001b[1;32m    378\u001b[0m         \u001b[0;34m\"\"\"prediction function for sparsity correction\"\"\"\u001b[0m\u001b[0;34m\u001b[0m\u001b[0;34m\u001b[0m\u001b[0m\n\u001b[0;32m--> 379\u001b[0;31m         \u001b[0;32mreturn\u001b[0m \u001b[0mself\u001b[0m\u001b[0;34m.\u001b[0m\u001b[0mmodel\u001b[0m\u001b[0;34m.\u001b[0m\u001b[0mget_output\u001b[0m\u001b[0;34m(\u001b[0m\u001b[0minput_instance\u001b[0m\u001b[0;34m)\u001b[0m\u001b[0;34m\u001b[0m\u001b[0;34m\u001b[0m\u001b[0m\n\u001b[0m\u001b[1;32m    380\u001b[0m \u001b[0;34m\u001b[0m\u001b[0m\n\u001b[1;32m    381\u001b[0m     def do_posthoc_sparsity_enhancement(self, final_cfs_sparse, query_instance, posthoc_sparsity_param,\n",
      "\u001b[0;32m~/miniconda3/envs/gam/lib/python3.7/site-packages/dice_ml/model_interfaces/base_model.py\u001b[0m in \u001b[0;36mget_output\u001b[0;34m(self, input_instance, model_score)\u001b[0m\n\u001b[1;32m     50\u001b[0m         \u001b[0;32mif\u001b[0m \u001b[0mmodel_score\u001b[0m\u001b[0;34m:\u001b[0m\u001b[0;34m\u001b[0m\u001b[0;34m\u001b[0m\u001b[0m\n\u001b[1;32m     51\u001b[0m             \u001b[0;32mif\u001b[0m \u001b[0mself\u001b[0m\u001b[0;34m.\u001b[0m\u001b[0mmodel_type\u001b[0m \u001b[0;34m==\u001b[0m \u001b[0mModelTypes\u001b[0m\u001b[0;34m.\u001b[0m\u001b[0mClassifier\u001b[0m\u001b[0;34m:\u001b[0m\u001b[0;34m\u001b[0m\u001b[0;34m\u001b[0m\u001b[0m\n\u001b[0;32m---> 52\u001b[0;31m                 \u001b[0;32mreturn\u001b[0m \u001b[0mself\u001b[0m\u001b[0;34m.\u001b[0m\u001b[0mmodel\u001b[0m\u001b[0;34m.\u001b[0m\u001b[0mpredict_proba\u001b[0m\u001b[0;34m(\u001b[0m\u001b[0minput_instance\u001b[0m\u001b[0;34m)\u001b[0m\u001b[0;34m\u001b[0m\u001b[0;34m\u001b[0m\u001b[0m\n\u001b[0m\u001b[1;32m     53\u001b[0m             \u001b[0;32melse\u001b[0m\u001b[0;34m:\u001b[0m\u001b[0;34m\u001b[0m\u001b[0;34m\u001b[0m\u001b[0m\n\u001b[1;32m     54\u001b[0m                 \u001b[0;32mreturn\u001b[0m \u001b[0mself\u001b[0m\u001b[0;34m.\u001b[0m\u001b[0mmodel\u001b[0m\u001b[0;34m.\u001b[0m\u001b[0mpredict\u001b[0m\u001b[0;34m(\u001b[0m\u001b[0minput_instance\u001b[0m\u001b[0;34m)\u001b[0m\u001b[0;34m\u001b[0m\u001b[0;34m\u001b[0m\u001b[0m\n",
      "\u001b[0;32m~/miniconda3/envs/gam/lib/python3.7/site-packages/interpret/glassbox/ebm/ebm.py\u001b[0m in \u001b[0;36mpredict_proba\u001b[0;34m(self, X)\u001b[0m\n\u001b[1;32m   1654\u001b[0m \u001b[0;34m\u001b[0m\u001b[0m\n\u001b[1;32m   1655\u001b[0m         prob = EBMUtils.classifier_predict_proba(\n\u001b[0;32m-> 1656\u001b[0;31m             \u001b[0mX\u001b[0m\u001b[0;34m,\u001b[0m \u001b[0mX_pair\u001b[0m\u001b[0;34m,\u001b[0m \u001b[0mself\u001b[0m\u001b[0;34m.\u001b[0m\u001b[0mfeature_groups_\u001b[0m\u001b[0;34m,\u001b[0m \u001b[0mself\u001b[0m\u001b[0;34m.\u001b[0m\u001b[0madditive_terms_\u001b[0m\u001b[0;34m,\u001b[0m \u001b[0mself\u001b[0m\u001b[0;34m.\u001b[0m\u001b[0mintercept_\u001b[0m\u001b[0;34m\u001b[0m\u001b[0;34m\u001b[0m\u001b[0m\n\u001b[0m\u001b[1;32m   1657\u001b[0m         )\n\u001b[1;32m   1658\u001b[0m         \u001b[0;32mreturn\u001b[0m \u001b[0mprob\u001b[0m\u001b[0;34m\u001b[0m\u001b[0;34m\u001b[0m\u001b[0m\n",
      "\u001b[0;32m~/miniconda3/envs/gam/lib/python3.7/site-packages/interpret/glassbox/ebm/utils.py\u001b[0m in \u001b[0;36mclassifier_predict_proba\u001b[0;34m(X, X_pair, feature_groups, model, intercept)\u001b[0m\n\u001b[1;32m    432\u001b[0m     \u001b[0;32mdef\u001b[0m \u001b[0mclassifier_predict_proba\u001b[0m\u001b[0;34m(\u001b[0m\u001b[0mX\u001b[0m\u001b[0;34m,\u001b[0m \u001b[0mX_pair\u001b[0m\u001b[0;34m,\u001b[0m \u001b[0mfeature_groups\u001b[0m\u001b[0;34m,\u001b[0m \u001b[0mmodel\u001b[0m\u001b[0;34m,\u001b[0m \u001b[0mintercept\u001b[0m\u001b[0;34m)\u001b[0m\u001b[0;34m:\u001b[0m\u001b[0;34m\u001b[0m\u001b[0;34m\u001b[0m\u001b[0m\n\u001b[1;32m    433\u001b[0m         log_odds_vector = EBMUtils.decision_function(\n\u001b[0;32m--> 434\u001b[0;31m             \u001b[0mX\u001b[0m\u001b[0;34m,\u001b[0m \u001b[0mX_pair\u001b[0m\u001b[0;34m,\u001b[0m \u001b[0mfeature_groups\u001b[0m\u001b[0;34m,\u001b[0m \u001b[0mmodel\u001b[0m\u001b[0;34m,\u001b[0m \u001b[0mintercept\u001b[0m\u001b[0;34m\u001b[0m\u001b[0;34m\u001b[0m\u001b[0m\n\u001b[0m\u001b[1;32m    435\u001b[0m         )\n\u001b[1;32m    436\u001b[0m \u001b[0;34m\u001b[0m\u001b[0m\n",
      "\u001b[0;32m~/miniconda3/envs/gam/lib/python3.7/site-packages/interpret/glassbox/ebm/utils.py\u001b[0m in \u001b[0;36mdecision_function\u001b[0;34m(X, X_pair, feature_groups, model, intercept)\u001b[0m\n\u001b[1;32m    388\u001b[0m             \u001b[0mX\u001b[0m\u001b[0;34m,\u001b[0m \u001b[0mX_pair\u001b[0m\u001b[0;34m,\u001b[0m \u001b[0mfeature_groups\u001b[0m\u001b[0;34m,\u001b[0m \u001b[0mmodel\u001b[0m\u001b[0;34m\u001b[0m\u001b[0;34m\u001b[0m\u001b[0m\n\u001b[1;32m    389\u001b[0m         )\n\u001b[0;32m--> 390\u001b[0;31m         \u001b[0;32mfor\u001b[0m \u001b[0m_\u001b[0m\u001b[0;34m,\u001b[0m \u001b[0m_\u001b[0m\u001b[0;34m,\u001b[0m \u001b[0mscores\u001b[0m \u001b[0;32min\u001b[0m \u001b[0mscores_gen\u001b[0m\u001b[0;34m:\u001b[0m\u001b[0;34m\u001b[0m\u001b[0;34m\u001b[0m\u001b[0m\n\u001b[0m\u001b[1;32m    391\u001b[0m             \u001b[0mscore_vector\u001b[0m \u001b[0;34m+=\u001b[0m \u001b[0mscores\u001b[0m\u001b[0;34m\u001b[0m\u001b[0;34m\u001b[0m\u001b[0m\n\u001b[1;32m    392\u001b[0m \u001b[0;34m\u001b[0m\u001b[0m\n",
      "\u001b[0;32m~/miniconda3/envs/gam/lib/python3.7/site-packages/interpret/glassbox/ebm/utils.py\u001b[0m in \u001b[0;36mscores_by_feature_group\u001b[0;34m(X, X_pair, feature_groups, model)\u001b[0m\n\u001b[1;32m    361\u001b[0m                 \u001b[0msliced_X\u001b[0m \u001b[0;34m=\u001b[0m \u001b[0mX\u001b[0m\u001b[0;34m[\u001b[0m\u001b[0mfeature_idxs\u001b[0m\u001b[0;34m,\u001b[0m \u001b[0;34m:\u001b[0m\u001b[0;34m]\u001b[0m\u001b[0;34m\u001b[0m\u001b[0;34m\u001b[0m\u001b[0m\n\u001b[1;32m    362\u001b[0m \u001b[0;34m\u001b[0m\u001b[0m\n\u001b[0;32m--> 363\u001b[0;31m             \u001b[0mscores\u001b[0m \u001b[0;34m=\u001b[0m \u001b[0mtensor\u001b[0m\u001b[0;34m[\u001b[0m\u001b[0mtuple\u001b[0m\u001b[0;34m(\u001b[0m\u001b[0msliced_X\u001b[0m\u001b[0;34m)\u001b[0m\u001b[0;34m]\u001b[0m\u001b[0;34m\u001b[0m\u001b[0;34m\u001b[0m\u001b[0m\n\u001b[0m\u001b[1;32m    364\u001b[0m \u001b[0;34m\u001b[0m\u001b[0m\n\u001b[1;32m    365\u001b[0m             \u001b[0;31m# Reset scores from unknown (not missing!) indexes to 0\u001b[0m\u001b[0;34m\u001b[0m\u001b[0;34m\u001b[0m\u001b[0;34m\u001b[0m\u001b[0m\n",
      "\u001b[0;31mKeyboardInterrupt\u001b[0m: "
     ]
    }
   ],
   "source": [
    "exp = dice_ml.Dice(dice_data, dice_model, method='random')\n",
    "\n",
    "dice_rejected_df = explain_df.copy()\n",
    "for c in feature_names_cont:\n",
    "    dice_rejected_df[c] = dice_rejected_df[c].astype(float)\n",
    "\n",
    "explanation_random = exp.generate_counterfactuals(\n",
    "    dice_rejected_df,\n",
    "    total_CFs=1,\n",
    "    features_to_vary=features_to_vary,\n",
    "    # posthoc_sparsity_param=0.2,\n",
    "    verbose=False,\n",
    "    desired_class=\"opposite\")"
   ]
  },
  {
   "cell_type": "code",
   "execution_count": null,
   "metadata": {},
   "outputs": [],
   "source": [
    "r_distances, r_feature_nums, r_failed_indexes = [], [], []\n",
    "\n",
    "for i in range(len(explanation_random.cf_examples_list)):\n",
    "    if explanation_random.cf_examples_list[i].final_cfs_df is None:\n",
    "        r_failed_indexes.append(i)\n",
    "        continue\n",
    "\n",
    "    x1 = dice_rejected_df.iloc[i, :]\n",
    "    x2 = explanation_random.cf_examples_list[i].final_cfs_df.iloc[0, :]\n",
    "\n",
    "    cur_distance, changed_feature = evaluate_cf(x1, x2, feature_names, my_coach.cont_mads)\n",
    "    \n",
    "    r_distances.append(cur_distance)\n",
    "    r_feature_nums.append(changed_feature)\n"
   ]
  }
 ],
 "metadata": {
  "colab": {
   "collapsed_sections": [],
   "name": "gam-coach-binary-classification.ipynb",
   "provenance": []
  },
  "kernelspec": {
   "display_name": "Python 3.7.10 ('gam')",
   "language": "python",
   "name": "python3"
  },
  "language_info": {
   "codemirror_mode": {
    "name": "ipython",
    "version": 3
   },
   "file_extension": ".py",
   "mimetype": "text/x-python",
   "name": "python",
   "nbconvert_exporter": "python",
   "pygments_lexer": "ipython3",
   "version": "3.7.10"
  },
  "vscode": {
   "interpreter": {
    "hash": "873180efce40cd0f92c6f277e3717bf56751c1b9e1ee0ff98acce134a686d5e5"
   }
  }
 },
 "nbformat": 4,
 "nbformat_minor": 4
}
